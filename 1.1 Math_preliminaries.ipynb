{
 "cells": [
  {
   "attachments": {},
   "cell_type": "markdown",
   "metadata": {
    "editable": true,
    "id": "SibjX3euHY_D",
    "slideshow": {
     "slide_type": ""
    },
    "tags": []
   },
   "source": [
    "*Engi 9981/ ME 7220 Guidance Navigation and Control for Autonomy*\n",
    "\n",
    "\n",
    "# **1.1 Mathematical Preliminaries**\n",
    "\n",
    "<a href=\"https://colab.research.google.com/drive/1pshiUZHJ_zSQCLciRR91sGGCvTTuxMQP?usp=sharing\" target=\"_parent\"><img src=\"https://colab.research.google.com/assets/colab-badge.svg\" alt=\"Open In Colab\"/></a>\n",
    "\n",
    "This topics reviews the mathematical background and introduces the notations used throughout this course. This is a Colab notebook which can be open in a browser using the following link: https://colab.research.google.com/drive/1pshiUZHJ_zSQCLciRR91sGGCvTTuxMQP?usp=sharing. And copied to include your code and note additions.\n",
    "\n",
    "\n",
    "The topics covered include vectors, frames, rotations, groups. And how they can be used to come up with a `mathematical model` for a given system. In robotic applications, development of these models involves rigid body modelling kinematics and dynamics .\n",
    "\n"
   ]
  },
  {
   "attachments": {},
   "cell_type": "markdown",
   "metadata": {
    "id": "2UsdZu764l7B"
   },
   "source": [
    "## **2D and 3D vectors**\n",
    "* Scalars, vectors, and matrices are predominantly used in the formulation of mathematical models of dynamical systems.  \n",
    "* A vector $\\mathbf{p}\\in \\mathbb{R}^3$ is a mathematical object that can be used to represent a magnitude given by $||\\mathbf{p}||$ and a 3 dimensional direction given by $\\vec{\\mathbf{p}}=\\mathbf{p}/||\\mathbf{p}||$. Here the operator $||\\cdot||$ is the norm of a vector and unit vectors are denoted using $\\vec{\\cdot}$ notation.\n",
    "* A vector can be two dimentional (2D) to help with planar modeling tasks and there dimentinoal (3D) for spatial modeling tasks. We will also use higher dimensional vectors when representing rotations and combination of such quantities. \n",
    "* 3D vectors can be used to represent different physical quantities. e.g., position $\\mathbf{p}$, velocity $\\mathbf{v}$, angular velocity $\\boldsymbol{\\omega}$.\n",
    "*  For example the angular rotation of the earth can be written as $\\boldsymbol{\\omega} = \\begin{bmatrix} 0& 0& 7.2921159\\times 10^{-5} \\end{bmatrix}^T rad/s$ if z axis is defined such that it is along the rotation axis of the earth. Note that we have denoted this as a column vector which is common pracitce when denoting vectors.\n"
   ]
  },
  {
   "attachments": {},
   "cell_type": "markdown",
   "metadata": {
    "id": "93mIedU3GEQQ"
   },
   "source": [
    "### **Vector notation and operations**\n",
    "* When it comes to position, we can denote the position of point $b$ relative to point $a$ using subscripts of a position vector $\\mathbf{p}_{ab}$. Similarly, we can denote the velocity of point $b$ relative to point $a$ using subscripts of a velocity vector $\\mathbf{v}_{ab}$.\n",
    "\n",
    "\n",
    "* Scalar multiplication of a vector, scales the magnitude of the vector, where \n",
    "\\begin{equation}\n",
    "\\begin{array}{c}\n",
    "||s\\mathbf{p}||=s||\\mathbf{p}|| \\\\\n",
    "\\vec{s\\mathbf{p}}=\\vec{\\mathbf{p}}\n",
    "\\end{array}\n",
    "\\end{equation}.\n",
    "\n",
    "* For example changing the units of $\\boldsymbol{\\omega}$ defined earlier can be achieved by scalar multiplication as follows:\n",
    "\\begin{equation}\n",
    "\\boldsymbol{\\omega}= \\frac{60}{2\\pi}\\begin{bmatrix} 0& 0& 7.2921159\\times 10^{-5} \\end{bmatrix}^T  rpm\n",
    "\\end{equation}.\n",
    "\n",
    "* Addition of vectors always follow the linking of subscripts, where:\n",
    "\\begin{equation}\n",
    "\\mathbf{p}_{ac}=\\mathbf{p}_{ab}+\\mathbf{p}_{bc}\n",
    "\\end{equation}.\n",
    "\n",
    "\n",
    "<center>\n",
    "<div>\n",
    "<img src=\"https://drive.google.com/uc?export=view&id=1uc0pY_F-ZlwrhJaMMhnH_zVQuHU8Iql5\"\n",
    "    width=\"700\"/>\n",
    "</div>\n",
    "</center>\n",
    "\n",
    "* The negative of a vector can be defined as follows:\n",
    "\\begin{equation}\n",
    "^w\\mathbf{p}_{wb}=-^w\\mathbf{p}_{bw}\n",
    "\\end{equation}.\n",
    "\n",
    "\n",
    "\n",
    "<center>\n",
    "<div>\n",
    "<img src=\"https://drive.google.com/uc?export=view&id=1wKs5VrLMCKrImQ6o8NOhhr-D4RMRB8qT\"\n",
    "    width=\"700\"/>\n",
    "</div>\n",
    "</center>\n",
    "\n",
    "\n",
    "* The projected length of vector $\\mathbf{a}$ along the direction of vector $\\mathbf{b}$ is given by the dot product $\\mathbf{a}^T\\vec{\\mathbf{b}}$. The dot product is defined as follows where $\\theta$ is the angle between the two vectors.\n",
    "<center>\n",
    "<div>\n",
    "<img src=\"https://drive.google.com/uc?export=view&id=1u0_ynr00OnTNl-iJTy937bDhLxPoTyiv\"\n",
    "    width=\"250\"/>\n",
    "</div>\n",
    "</center>\n",
    "\n",
    "\n",
    "\n",
    "\\begin{equation}\n",
    "\\mathbf{a}\\cdot\\mathbf{b}=\\mathbf{a}^T\\mathbf{b}=||\\mathbf{a}|||\\mathbf{b}||cos\\theta\n",
    "\\end{equation}.\n",
    "\n",
    "* The cross product between the same two vectors produces a vector perpendicular to $\\mathbf{a}$ and $\\mathbf{b}$ having a length of $||\\mathbf{a}||||\\mathbf{b}||sin\\theta$. The cross product is defined as follows where $\\vec{\\mathbf{n}}$ is the normal vector direction $\\vec{\\mathbf{a}}\\times \\vec{\\mathbf{b}}$.\n",
    "\n",
    "\\begin{equation}\n",
    "\\mathbf{a}\\times \\mathbf{b}=||\\mathbf{a}|||\\mathbf{b}||sin\\theta~ \\vec{\\mathbf{n}}\n",
    "\\end{equation},\n",
    "\n",
    "<center>\n",
    "<div>\n",
    "<img src=\"https://drive.google.com/uc?export=view&id=1pqke-3ACLLcK-FofSbaJHd3ThIzQYVg_\"\n",
    "    width=\"250\"/>\n",
    "</div>\n",
    "</center>\n",
    "\n"
   ]
  },
  {
   "attachments": {},
   "cell_type": "markdown",
   "metadata": {
    "id": "r0XD_sHzHY_P"
   },
   "source": [
    "# **Frames of Reference - Rotation Matrices**\n",
    "\n",
    "* Three perpendicular unit vectors $\\vec{\\mathbf{x}},\\vec{\\mathbf{y}},\\vec{\\mathbf{z}}$ arranged in a right handed coordinate system, i.e.,  $\\vec{\\mathbf{x}}\\times\\vec{\\mathbf{y}}=\\vec{\\mathbf{z}}$ defines a coordinate frame.\n",
    "* A coordinate frame labeled W is defined using notation $\\{W\\}$.\n",
    "* The pose between two reference frames $\\{W\\}$ and $\\{B\\}$ can be represented using a position vector $^w\\mathbf{p}_{wb}\\in R^3$ and a rotation matrix $^w\\mathbf{R}_b$.\n",
    "\n",
    "* The vector $^w\\mathbf{p}_{wb}$ should be read as the location of $\\{B\\}$ relative to $\\{W\\}$ expressed in frame $\\{W\\}$. The vector represents the location of the origin of $\\{B\\}$  relative to origin of $\\{W\\}$ when measured along the principal axis of $\\{W\\}$ .\n",
    "\n",
    "* The rotation matrix  $^w\\mathbf{R}_b$ should be read as the orientation of frame $\\{B\\}$ expressed in $\\{W\\}$. Rotation matrices have several unique properties. \n",
    "\n",
    "\n",
    "\n",
    "\n"
   ]
  },
  {
   "attachments": {},
   "cell_type": "markdown",
   "metadata": {
    "id": "-vh5l_H8MYD8"
   },
   "source": [
    "## **Properties of Rotation matrices** \n",
    "\n",
    "\n",
    "1. The rotation matrix $^w\\mathbf{R}_b$ allows to rotate vectors from frame $\\{B\\}$  to frame $\\{W\\}$. i.e. given a vector $\\textbf{p}_{wb}^b$  expressed in frame $\\{B\\}$, we can find the vector $\\mathbf{p}_{wb}^w$ as follows:\n",
    "\n",
    "\\begin{equation}\n",
    "^w\\mathbf{p}_{wb}= ~^w\\mathbf{R}_b ~^b\\mathbf{p}_{wb}\n",
    "\\end{equation}\n",
    "\n",
    "2. For three dimensional rotations, rotation matrices have a dimension of $3 \\times 3$.\n",
    "\n",
    "3. Matrix inverse of a rotation matrix ${\\mathbf{R}_o^w}^{-1}$ is equal to $\\mathbf{R}_w^o$ (orthonormal) ,i.e., denotes the rotation of a follower frame $\\{W\\}$ w.r.t. a base frame $\\{O\\}$.\n",
    "\\begin{equation}\n",
    "{\\mathbf{R}_o^w}^T={\\mathbf{R}_o^w}^{-1}\n",
    "\\end{equation}\n",
    "\n",
    "\n",
    "4. Rotation matrices are orthogonal and have a determitant of 1. Rotation matrices belong to the special orthogonal group of 3 dimensions SO(3), i.e., $R\\in SO(3)$ which defines 3x3 orthonormal matrices representing 3D rotations.\n",
    "> We will discuss more about groups later in the course, but for now a mathematical group only has one type of operation defined on it ( in the SO3 case matrix multiplication serves as the group operation). Addition operation is inconsistent with the SO3 group because addition of two rotation matrices does not result in a rotation matrix (3x3 orthonorma matrix). In contrast 3D vectors which belong to the euclidean vector space ($\\mathbb{R}^3$) results in a vector of the same vector space ($\\mathbb{R}^3$) regardless of the fundamental operations: scalar multiplicaiton and addition. \n",
    "\n",
    "5. Right-hand rule can be used to find the positive direction of rotation. i.e., CCW rotation about an axis is positive.\n",
    "\n",
    "6. Rotations about the principal axis' follows a predictable pattern.\n",
    "\n",
    "\\begin{equation}\n",
    "\\begin{array}{c c}\n",
    "Rot(x, \\psi)=\\begin{bmatrix} 1 & 0 &0\\\\ 0  &  \\cos \\psi  &-\\sin \\psi\\\\ 0 &\\sin \\psi  &\\cos \\psi \\end{bmatrix}&\n",
    "Rot(y, \\theta)=\\begin{bmatrix} \\cos \\theta &0 & \\sin \\theta \\\\ 0 &1 &0\\\\-\\sin \\theta &0 &  \\cos \\theta \\end{bmatrix}\\\\\n",
    "Rot(z, \\phi)=\\begin{bmatrix} \\cos \\phi &- \\sin \\phi &0\\\\ \\sin \\phi  &  \\cos \\phi &0\\\\ 0 &0 &1 \\end{bmatrix} \\\\              \n",
    "\\end{array}\n",
    "\\end{equation}\n",
    "\n",
    "\n",
    "\n",
    "7. Rotations can be combined by matrix multiplication and the rotation sequence depends on the order in which they are applied.\n",
    "\n",
    "\n",
    "<center>\n",
    "<div>\n",
    "<img src=\"https://drive.google.com/uc?export=view&id=1fDKdsSgUtI7t5uHg8qHflrpNIFNItRqQ\"\n",
    "    width=\"600\"/>\n",
    "</div>\n",
    "</center>\n"
   ]
  },
  {
   "attachments": {},
   "cell_type": "markdown",
   "metadata": {
    "id": "lbnlmkYQ1gtt"
   },
   "source": [
    "# **Using python numpy for vector matrix math**\n",
    "\n",
    "Now we will look at how to use vectors and matrices in python scripts. The following code performs basic vector addition using python. The `np.array()` command is used to define vectors and `print()` command is used to display the elements of a vector."
   ]
  },
  {
   "cell_type": "code",
   "execution_count": 1,
   "metadata": {
    "colab": {
     "base_uri": "https://localhost:8080/"
    },
    "executionInfo": {
     "elapsed": 519,
     "status": "ok",
     "timestamp": 1684157982259,
     "user": {
      "displayName": "Aidan Matthew Hartling Clark",
      "userId": "14705549715033935986"
     },
     "user_tz": 150
    },
    "id": "wHRGH6Wi05aC",
    "outputId": "ab59be55-c02f-467d-dc41-bdc4ee0e3b87"
   },
   "outputs": [
    {
     "name": "stdout",
     "output_type": "stream",
     "text": [
      "p_wb_w= [2 1 0]\n",
      "R_w_b= [[0 0 1]\n",
      " [0 1 0]\n",
      " [1 0 0]]\n",
      "p_wb_b= [0 1 2]\n",
      "[[0 0 1]\n",
      " [0 1 0]\n",
      " [1 0 0]]\n"
     ]
    }
   ],
   "source": [
    "import numpy as np   #numpy package is used to handle vectors, matrices and associated linear algebra operations\n",
    "\n",
    "p_wa_w=  np.array([1,0,0])\n",
    "p_ab_w=  np.array([1,1,0])\n",
    "p_wb_w= p_wa_w + p_ab_w\n",
    "\n",
    "#print(p_wa_w)\n",
    "#print(p_ab_w)\n",
    "print('p_wb_w=',p_wb_w)\n",
    "\n",
    "# A matrix can be defined using the following syntax\n",
    "R_b_w =  np.array([[0,0,1],[0,1,0],[1,0,0]])\n",
    "\n",
    "print('R_w_b=', R_b_w)\n",
    "\n",
    "p_wb_b = R_b_w @ p_wb_w # @ symbol is used for matrix multiplaction\n",
    "print('p_wb_b=',p_wb_b)\n",
    "\n",
    "print(R_b_w)"
   ]
  },
  {
   "attachments": {},
   "cell_type": "markdown",
   "metadata": {
    "id": "zGhiP08q1mdf"
   },
   "source": [
    "Note that the syntax follow a certain set of rules. The quickest way for Matlab users to make the transition is to use the following guide:\n",
    "https://numpy.org/doc/stable/user/numpy-for-matlab-users.html\n",
    "\n",
    "You can try operations like accessing rows and columns of a matrix, finding transpose, inverse, matrix multiplication by using the matlab to numpy cheat sheet above."
   ]
  },
  {
   "cell_type": "code",
   "execution_count": null,
   "metadata": {
    "id": "-fiKxLwoYpuv"
   },
   "outputs": [],
   "source": [
    "# TRY YOUR FAVOURITE MATLAB VECTOR MATRIX OPERATIONS HERE BY FOLLOWING THE ABOVE CHEAT SHEET"
   ]
  },
  {
   "attachments": {},
   "cell_type": "markdown",
   "metadata": {
    "id": "QwPzvkCzHY_R",
    "solution2": "shown",
    "solution2_first": true
   },
   "source": [
    "### **Example 1.1**\n",
    "\n",
    "\n",
    ">Write a function $\\mathbf{rotnp(`axis',angle)}$ to return the rotation matrix corresponding to a rotation about an principal axis ('x','y', or 'z') and a numerical angle specified by the user. Use the function to find the rotation matrix corresponding to a rotation of $\\pi/3$ about the z axis.\n",
    "\n",
    "\n"
   ]
  },
  {
   "cell_type": "code",
   "execution_count": 2,
   "metadata": {
    "colab": {
     "base_uri": "https://localhost:8080/"
    },
    "executionInfo": {
     "elapsed": 2,
     "status": "ok",
     "timestamp": 1683689756024,
     "user": {
      "displayName": "Oscar De Silva",
      "userId": "01748366862683392619"
     },
     "user_tz": 150
    },
    "id": "Hg4R99bf0FpR",
    "outputId": "c7c4d051-d5e8-41e3-a7d9-de037ba9968b"
   },
   "outputs": [
    {
     "name": "stdout",
     "output_type": "stream",
     "text": [
      "[[ 0.5       -0.8660254  0.       ]\n",
      " [ 0.8660254  0.5        0.       ]\n",
      " [ 0.         0.         1.       ]]\n",
      "[[ 1.          0.          0.        ]\n",
      " [ 0.          0.95105652 -0.30901699]\n",
      " [ 0.          0.30901699  0.95105652]]\n"
     ]
    }
   ],
   "source": [
    "#First lets use numpy for vector matrix math\n",
    "import numpy as np\n",
    "\n",
    "def rotnp(a,b):   \n",
    "      c=np.cos(b)\n",
    "      s=np.sin(b)\n",
    "      if a==\"z\":\n",
    "        R = np.array([[c,-s,0],\n",
    "        [s,c,0],\n",
    "        [0,0,1]])\n",
    "      if a==\"x\":\n",
    "        R = np.array([[1,0,0],\n",
    "        [0,c,-s],\n",
    "        [0,s,c]])\n",
    "      if a==\"y\":\n",
    "        R = np.array([[c,0,s],\n",
    "        [0,1,0],\n",
    "        [-s,0,c]])\n",
    "      return(R)\n",
    "\n",
    "#test the function\n",
    "R = rotnp('z',np.pi/3)\n",
    "print(R)\n",
    "R = rotnp('x',np.pi/10)\n",
    "print(R)"
   ]
  },
  {
   "attachments": {},
   "cell_type": "markdown",
   "metadata": {
    "id": "1UUii2zuzQkP"
   },
   "source": [
    "### **Exercise 1.1**\n",
    "\n",
    ">Write a function $\\mathbf{skew(v)}$ to return the skew symetric matrix corresponding to a given numpy vector $\\mathbf{v}$. Use the function to find the the cross product of  vector $\\mathbf{a}= \\begin{bmatrix} 1 &5 &6 \\end{bmatrix}^T $ and $\\mathbf{b}= \\begin{bmatrix} 2 &9 &1 \\end{bmatrix}^T $, i.e., $\\mathbf{a} \\times \\mathbf{b}$."
   ]
  },
  {
   "cell_type": "code",
   "execution_count": 3,
   "metadata": {
    "colab": {
     "base_uri": "https://localhost:8080/",
     "height": 201
    },
    "executionInfo": {
     "elapsed": 7,
     "status": "error",
     "timestamp": 1684158492811,
     "user": {
      "displayName": "Aidan Matthew Hartling Clark",
      "userId": "14705549715033935986"
     },
     "user_tz": 150
    },
    "id": "AVVtEJN8YgWT",
    "outputId": "7fdaac41-c48c-4185-f5ab-cd0932710718"
   },
   "outputs": [],
   "source": [
    "# WRITE YOUR CODE HERE\n",
    "\n",
    "import numpy as np\n",
    "\n",
    "def skew(V):\n",
    "\n",
    "  a = np.array([1,5,6])\n",
    "  b = np.array([2,9,1])\n",
    "\n",
    "  V = np.cross(a,b)\n",
    "\n",
    "  return V\n",
    "\n"
   ]
  },
  {
   "attachments": {},
   "cell_type": "markdown",
   "metadata": {
    "id": "fDYkLASSE3Jt"
   },
   "source": [
    "### **Exercise 1.2**\n",
    "\n",
    ">Write a function $\\mathbf{dot(a,b)}$ to return the dot product between  vector $\\mathbf{a}= \\begin{bmatrix} 1 &5 &6 \\end{bmatrix}^T $ and $\\mathbf{b}= \\begin{bmatrix} 2 &9 &1 \\end{bmatrix}^T $, i.e., $\\mathbf{a} . \\mathbf{b}$."
   ]
  },
  {
   "cell_type": "code",
   "execution_count": 4,
   "metadata": {
    "colab": {
     "base_uri": "https://localhost:8080/"
    },
    "executionInfo": {
     "elapsed": 296,
     "status": "ok",
     "timestamp": 1683865691164,
     "user": {
      "displayName": "Oscar De Silva",
      "userId": "01748366862683392619"
     },
     "user_tz": 150
    },
    "id": "eyqePFPfFZyu",
    "outputId": "a2f34c3c-b2bb-4381-c716-1a0194c7035a"
   },
   "outputs": [],
   "source": [
    "# WRITE YOUR CODE HERE\n",
    "import numpy as np\n",
    "a = np.array([1,5,6]).T\n",
    "b = np.array([1,5,6]).T\n",
    "\n",
    "A = np.array([[1,5,6],[1,5,6],[1,5,6]])\n",
    "\n"
   ]
  },
  {
   "attachments": {},
   "cell_type": "markdown",
   "metadata": {
    "id": "BcUrInrD00BN"
   },
   "source": [
    "# **Using python sympy for symbolic math**\n",
    "You can do same using symbols as below using the sympy package. Using a symbolc version of the matrix, operations like differentiation can be easily performed using the sympy library."
   ]
  },
  {
   "attachments": {},
   "cell_type": "markdown",
   "metadata": {
    "id": "XZDD9ucL14Zc"
   },
   "source": [
    "### **Example 1.2**\n",
    ">Write a function $\\mathbf{rotsym(`axis',angle)}$ to return the rotation matrix corresponding to a rotation about an principal axis ('x','y', or 'z') and a symbolic angle specified by the user. Use the function to find the rotation matrix corresponding to a rotation of $\\pi/3$ about the z axis. "
   ]
  },
  {
   "cell_type": "code",
   "execution_count": 6,
   "metadata": {
    "colab": {
     "base_uri": "https://localhost:8080/",
     "height": 89
    },
    "executionInfo": {
     "elapsed": 3361,
     "status": "ok",
     "timestamp": 1684157586640,
     "user": {
      "displayName": "Aidan Matthew Hartling Clark",
      "userId": "14705549715033935986"
     },
     "user_tz": 150
    },
    "hide_input": true,
    "id": "mk1FC34fHY_S",
    "outputId": "5673ac9f-5f81-4e55-c3ce-f02291544dfb",
    "solution2": "shown"
   },
   "outputs": [
    {
     "data": {
      "text/latex": [
       "$\\displaystyle \\left[\\begin{matrix}\\frac{1}{2} & - \\frac{\\sqrt{3}}{2} & 0\\\\\\frac{\\sqrt{3}}{2} & \\frac{1}{2} & 0\\\\0 & 0 & 1\\end{matrix}\\right]$"
      ],
      "text/plain": [
       "Matrix([\n",
       "[      1/2, -sqrt(3)/2, 0],\n",
       "[sqrt(3)/2,        1/2, 0],\n",
       "[        0,          0, 1]])"
      ]
     },
     "execution_count": 6,
     "metadata": {},
     "output_type": "execute_result"
    }
   ],
   "source": [
    "import sympy  \n",
    "import numpy as np\n",
    "\n",
    "def rotsym(a,b):\n",
    "    c=sympy.cos(b)\n",
    "    s=sympy.sin(b)\n",
    "    if a==\"z\":\n",
    "        R = sympy.Matrix([[c,-s,0],\n",
    "        [s,c,0],\n",
    "        [0,0,1]])\n",
    "    if a==\"x\":\n",
    "        R = sympy.Matrix([[1,0,0],\n",
    "        [0,c,-s],\n",
    "        [0,s,c]])\n",
    "    if a==\"y\":\n",
    "        R = sympy.Matrix([[c,0,s],\n",
    "        [0,1,0],\n",
    "        [-s,0,c]])\n",
    "    return(R)\n",
    "\n",
    "#test the function\n",
    "R = rotsym('z',sympy.pi/3)\n",
    "R"
   ]
  },
  {
   "attachments": {},
   "cell_type": "markdown",
   "metadata": {
    "id": "WvAtb6aAsE70"
   },
   "source": [
    "> Find the differentiation of a rotation matrix with respect to $\\theta$. i.e.,  $\\frac{d}{d \\theta}R_z(\\theta)$?"
   ]
  },
  {
   "cell_type": "code",
   "execution_count": 7,
   "metadata": {
    "colab": {
     "base_uri": "https://localhost:8080/",
     "height": 79
    },
    "executionInfo": {
     "elapsed": 668,
     "status": "ok",
     "timestamp": 1684157590174,
     "user": {
      "displayName": "Aidan Matthew Hartling Clark",
      "userId": "14705549715033935986"
     },
     "user_tz": 150
    },
    "id": "KUf1bnWmdMAz",
    "outputId": "ce451552-205f-438f-c89a-eb6f0495ea7d"
   },
   "outputs": [
    {
     "data": {
      "text/latex": [
       "$\\displaystyle \\left[\\begin{matrix}- \\sin{\\left(θ \\right)} & - \\cos{\\left(θ \\right)} & 0\\\\\\cos{\\left(θ \\right)} & - \\sin{\\left(θ \\right)} & 0\\\\0 & 0 & 0\\end{matrix}\\right]$"
      ],
      "text/plain": [
       "Matrix([\n",
       "[-sin(θ), -cos(θ), 0],\n",
       "[ cos(θ), -sin(θ), 0],\n",
       "[      0,       0, 0]])"
      ]
     },
     "execution_count": 7,
     "metadata": {},
     "output_type": "execute_result"
    }
   ],
   "source": [
    "θ =sympy.Symbol('θ')\n",
    "R = rotsym('z',θ)\n",
    "sympy.diff(R,θ)"
   ]
  },
  {
   "attachments": {},
   "cell_type": "markdown",
   "metadata": {
    "id": "wq19GcAk2Pie"
   },
   "source": [
    "### **Exercise 1.3**\n",
    "\n",
    ">Write a function $\\mathbf{skewsym(v)}$ to return the skew symetric matrix corresponding to a given sympy vector $\\mathbf{v}$. \n",
    "\n",
    ">(a) Use the function to find the the cross product of  vector $\\mathbf{a}= \\begin{bmatrix} a_x &a_y &a_z \\end{bmatrix}^T $ and $\\mathbf{b}= \\begin{bmatrix} b_x &b_y &b_z \\end{bmatrix}^T $, i.e., $\\mathbf{a} \\times \\mathbf{b}$.\n",
    "\n",
    ">(b) Find the the following differentiation $\\displaystyle \\frac{\\partial (\\mathbf{a} \\times \\mathbf{b})}{\\partial a_z}$."
   ]
  },
  {
   "cell_type": "code",
   "execution_count": null,
   "metadata": {
    "id": "5T7ECkuFGPiC"
   },
   "outputs": [],
   "source": []
  },
  {
   "attachments": {},
   "cell_type": "markdown",
   "metadata": {
    "id": "Nji-sJkM5rjC"
   },
   "source": [
    "# **Rotation representaiton - Euler angles**\n",
    "\n",
    "A minimal representation of 3D rotations is achieved using Euler angles. The method uses 3 angles roll, pitch, and yaw to rotate with respect to a reference frame $\\{W\\}$. It is common practice to follow the ZYX rotation sequence, i.e., starting at a base frame $\\{W\\}$  ending on a follower frame $\\{O\\}$. Rotate $\\psi$ about z axis of frame $\\{W\\}$ to reach frame $\\{O_1\\}$, then rotate $\\theta$ about y axis of frame $\\{O_1\\}$ to reach frame $\\{O_2\\}$, then rotate $\\phi$ about x axis of frame $\\{O_2\\}$ to reach frame $\\{O\\}$.\n",
    "\n",
    "https://compsci290-s2016.github.io/CoursePage/Materials/EulerAnglesViz/"
   ]
  },
  {
   "attachments": {},
   "cell_type": "markdown",
   "metadata": {
    "id": "trPv7jBhHY_T",
    "solution2": "shown",
    "solution2_first": true
   },
   "source": [
    "### **Example 1.3**\n",
    ">Roll $(\\phi)$, pitch$(\\theta)$, yaw$(\\psi)$ axis convention  is commonly used to parameterize 3D rotations using 3 angles (also known as ZYX Euler angles). This corresponds to the following sequence of rotations starting at a base frame $\\{W\\}$  ending on a follower frame $\\{O\\}$. Rotate $\\psi$ about z axis of frame $\\{W\\}$ to reach frame $\\{O_1\\}$, then rotate $\\theta$ about y axis of frame $\\{O_1\\}$ to reach frame $\\{O_2\\}$, then rotate $\\phi$ about x axis of frame $\\{O_2\\}$ to reach frame $\\{O\\}$. Find rotation matrix $~^wR_o$? What is the rotation matrix if roll, pitch, and yaw are $\\pi/3, -\\pi/4 , \\pi/10$ respectively.\n",
    "\n",
    "\n",
    "<center>\n",
    "<div>\n",
    "<img src=\"https://drive.google.com/uc?export=view&id=16ZJ-i-4Uos4LLdOx6Miri1o9mSwPAwMM\"\n",
    "    width=\"300\"/>\n",
    "</div>\n",
    "</center>\n",
    "\n",
    "The following code evaluates the answer using the *rotsym* function.\n"
   ]
  },
  {
   "cell_type": "code",
   "execution_count": 8,
   "metadata": {
    "colab": {
     "base_uri": "https://localhost:8080/",
     "height": 79
    },
    "executionInfo": {
     "elapsed": 354,
     "status": "ok",
     "timestamp": 1684157597539,
     "user": {
      "displayName": "Aidan Matthew Hartling Clark",
      "userId": "14705549715033935986"
     },
     "user_tz": 150
    },
    "hide_input": false,
    "id": "BPIXDSB_HY_U",
    "outputId": "370f17d0-e11d-4bf9-8219-227ebdbb6cae",
    "scrolled": true,
    "solution2": "shown"
   },
   "outputs": [
    {
     "data": {
      "text/latex": [
       "$\\displaystyle \\left[\\begin{matrix}\\cos{\\left(θ \\right)} \\cos{\\left(ψ \\right)} & \\sin{\\left(θ \\right)} \\sin{\\left(ϕ \\right)} \\cos{\\left(ψ \\right)} - \\sin{\\left(ψ \\right)} \\cos{\\left(ϕ \\right)} & \\sin{\\left(θ \\right)} \\cos{\\left(ψ \\right)} \\cos{\\left(ϕ \\right)} + \\sin{\\left(ψ \\right)} \\sin{\\left(ϕ \\right)}\\\\\\sin{\\left(ψ \\right)} \\cos{\\left(θ \\right)} & \\sin{\\left(θ \\right)} \\sin{\\left(ψ \\right)} \\sin{\\left(ϕ \\right)} + \\cos{\\left(ψ \\right)} \\cos{\\left(ϕ \\right)} & \\sin{\\left(θ \\right)} \\sin{\\left(ψ \\right)} \\cos{\\left(ϕ \\right)} - \\sin{\\left(ϕ \\right)} \\cos{\\left(ψ \\right)}\\\\- \\sin{\\left(θ \\right)} & \\sin{\\left(ϕ \\right)} \\cos{\\left(θ \\right)} & \\cos{\\left(θ \\right)} \\cos{\\left(ϕ \\right)}\\end{matrix}\\right]$"
      ],
      "text/plain": [
       "Matrix([\n",
       "[cos(θ)*cos(ψ), sin(θ)*sin(ϕ)*cos(ψ) - sin(ψ)*cos(ϕ), sin(θ)*cos(ψ)*cos(ϕ) + sin(ψ)*sin(ϕ)],\n",
       "[sin(ψ)*cos(θ), sin(θ)*sin(ψ)*sin(ϕ) + cos(ψ)*cos(ϕ), sin(θ)*sin(ψ)*cos(ϕ) - sin(ϕ)*cos(ψ)],\n",
       "[      -sin(θ),                        sin(ϕ)*cos(θ),                        cos(θ)*cos(ϕ)]])"
      ]
     },
     "execution_count": 8,
     "metadata": {},
     "output_type": "execute_result"
    }
   ],
   "source": [
    "θ = sympy.Symbol('θ')\n",
    "ϕ = sympy.Symbol('ϕ')\n",
    "ψ = sympy.Symbol('ψ')\n",
    "R=rotsym(\"z\",ψ)*rotsym(\"y\",θ)*rotsym(\"x\",ϕ)\n",
    "R\n"
   ]
  },
  {
   "cell_type": "code",
   "execution_count": 9,
   "metadata": {
    "colab": {
     "base_uri": "https://localhost:8080/",
     "height": 99
    },
    "executionInfo": {
     "elapsed": 9,
     "status": "ok",
     "timestamp": 1684157601245,
     "user": {
      "displayName": "Aidan Matthew Hartling Clark",
      "userId": "14705549715033935986"
     },
     "user_tz": 150
    },
    "id": "R-DJE576hBnY",
    "outputId": "aee9853e-c94a-4f3e-f673-a42be2620f8c"
   },
   "outputs": [
    {
     "data": {
      "text/latex": [
       "$\\displaystyle \\left[\\begin{matrix}\\frac{\\sqrt{\\sqrt{5} + 5}}{4} & - \\frac{\\sqrt{3 \\sqrt{5} + 15}}{8} - \\frac{\\sqrt{5}}{8} + \\frac{1}{8} & - \\frac{\\sqrt{\\sqrt{5} + 5}}{8} - \\frac{\\sqrt{3}}{8} + \\frac{\\sqrt{15}}{8}\\\\- \\frac{\\sqrt{2}}{8} + \\frac{\\sqrt{10}}{8} & - \\frac{\\sqrt{30}}{16} + \\frac{\\sqrt{6}}{16} + \\frac{\\sqrt{2 \\sqrt{5} + 10}}{8} & - \\frac{\\sqrt{6 \\sqrt{5} + 30}}{8} - \\frac{\\sqrt{10}}{16} + \\frac{\\sqrt{2}}{16}\\\\\\frac{\\sqrt{2}}{2} & \\frac{\\sqrt{6}}{4} & \\frac{\\sqrt{2}}{4}\\end{matrix}\\right]$"
      ],
      "text/plain": [
       "Matrix([\n",
       "[    sqrt(sqrt(5) + 5)/4,          -sqrt(3*sqrt(5) + 15)/8 - sqrt(5)/8 + 1/8,      -sqrt(sqrt(5) + 5)/8 - sqrt(3)/8 + sqrt(15)/8],\n",
       "[-sqrt(2)/8 + sqrt(10)/8, -sqrt(30)/16 + sqrt(6)/16 + sqrt(2*sqrt(5) + 10)/8, -sqrt(6*sqrt(5) + 30)/8 - sqrt(10)/16 + sqrt(2)/16],\n",
       "[              sqrt(2)/2,                                          sqrt(6)/4,                                          sqrt(2)/4]])"
      ]
     },
     "execution_count": 9,
     "metadata": {},
     "output_type": "execute_result"
    }
   ],
   "source": [
    "#Substituting values and simplifying symbolic expressions can be done using sympy.Sus and simpy.simplify methods\n",
    "# sympy.pi produces better numerical precision\n",
    "newR = R.subs({ψ:sympy.pi/10, θ:-sympy.pi/4, ϕ:sympy.pi/3,})\n",
    "newR = sympy.simplify(newR)\n",
    "newR\n",
    "\n",
    "#newR.evalf(). # this converts the above to floating point numbers\n"
   ]
  },
  {
   "attachments": {},
   "cell_type": "markdown",
   "metadata": {
    "id": "giEUaML6rsn3"
   },
   "source": [
    "### **Exercise 1.4**\n",
    "\n",
    "> If the pitch angle of an aircraft with body fixed frame $\\{O\\}$ is $-\\pi/2$, find the resulting rotation matrix $~^wR_o$ for a roll angle of $\\phi$ and a yaw angle of $\\psi$. Assume ZYX Euler angles.  At this configuration, comment on how many effective degrees of freedom are remaining for rotations in 3D?"
   ]
  },
  {
   "cell_type": "code",
   "execution_count": 10,
   "metadata": {
    "colab": {
     "base_uri": "https://localhost:8080/",
     "height": 78
    },
    "executionInfo": {
     "elapsed": 819,
     "status": "ok",
     "timestamp": 1683689758349,
     "user": {
      "displayName": "Oscar De Silva",
      "userId": "01748366862683392619"
     },
     "user_tz": 150
    },
    "id": "EKEdWZ-bicIj",
    "outputId": "dbceee63-3029-47c0-eee1-23488cdbe1cc"
   },
   "outputs": [
    {
     "data": {
      "text/latex": [
       "$\\displaystyle \\left[\\begin{matrix}0 & - \\sin{\\left(ψ + ϕ \\right)} & - \\cos{\\left(ψ + ϕ \\right)}\\\\0 & \\cos{\\left(ψ + ϕ \\right)} & - \\sin{\\left(ψ + ϕ \\right)}\\\\1 & 0 & 0\\end{matrix}\\right]$"
      ],
      "text/plain": [
       "Matrix([\n",
       "[0, -sin(ψ + ϕ), -cos(ψ + ϕ)],\n",
       "[0,  cos(ψ + ϕ), -sin(ψ + ϕ)],\n",
       "[1,           0,           0]])"
      ]
     },
     "execution_count": 10,
     "metadata": {},
     "output_type": "execute_result"
    }
   ],
   "source": [
    "#R=rotsym(\"x\",ϕ)*rotsym(\"y\",θ)*rotsym(\"z\",ψ)\n",
    "B= sympy.Subs(R,θ,-sympy.pi/2)\n",
    "C = sympy.simplify(sympy.simplify(B))\n",
    "C \n",
    "\n",
    "# both roll and yaw results in rotations about the z axis of the world frame. \n",
    "# So rotational degrees of freedom has reduced to one axis"
   ]
  },
  {
   "attachments": {},
   "cell_type": "markdown",
   "metadata": {
    "id": "kazNUalSHY_a"
   },
   "source": [
    "# **Key Vector Matrix Identities**\n",
    "The following is a summary of relationships related to vectors and matrix differentiation which are important in the development that follows:\n",
    "\n",
    "Expressing vector in a different frame\n",
    "\\begin{equation}\n",
    "\\begin{array}{c l}\n",
    "\\mathbf{p}^a_{ab} &= ~^a\\mathbf{R}_b\\mathbf{p}^b_{ab}\\\\\n",
    "\\end{array}\n",
    "\\end{equation}\n",
    "\n",
    "Vector addition\n",
    "\\begin{equation}\n",
    "\\begin{array}{c l}\n",
    "\\mathbf{p}^a_{ac} &=\\mathbf{p}^a_{ab}+\\mathbf{p}^a_{bc}\\\\\n",
    "&=\\mathbf{p}^a_{ab}+\\mathbf{R}^a_b\\mathbf{p}^b_{bc}\\\\\n",
    "\\end{array}\n",
    "\\end{equation}\n",
    "\n",
    "Vector substraction\n",
    "\\begin{equation}\n",
    "\\begin{array}{c l}\n",
    "\\mathbf{p}^a_{ab} &= - \\mathbf{p}^a_{ba} = -\\mathbf{R}^a_b\\mathbf{p}^b_{ba}\\\\\n",
    "\\end{array}\n",
    "\\end{equation}\n",
    "\n",
    "Skew symmetric representation\n",
    "\\begin{equation}\n",
    "\\boldsymbol{\\omega} \\times \\mathbf{r} = [\\boldsymbol{\\omega}]_{\\times}\\mathbf{r} = -[\\mathbf{r}]_{\\times}\\boldsymbol{\\omega} \n",
    "\\end{equation}\n",
    "\n",
    "Skew symmetric transpose\n",
    "\\begin{equation}\n",
    "[\\boldsymbol{\\omega}_{wb}^w]_{\\times}^T  = -[\\boldsymbol{\\omega}_{wb}^w]_{\\times} = [\\boldsymbol{\\omega}_{bw}^w]_{\\times}\n",
    "\\end{equation}\n",
    "\n",
    "Rotation kinematics (this result can be derived following the procedure shown in Appendix A)\n",
    "\\begin{equation}\n",
    "\\dot{\\mathbf{R}_b^w} = ~\\mathbf{R}_b^w[\\boldsymbol{\\omega}_{wb}^b]_{\\times} \n",
    "\\end{equation}\n",
    "\n",
    "Expressing angular velocity skew matrix in a different frame:\n",
    "\\begin{equation}\n",
    "[\\boldsymbol{\\omega}_{wb}^w]_{\\times} =[\\mathbf{R}_b^w~\\boldsymbol{\\omega}_{wb}^b]_{\\times} = \\mathbf{R}^w_b[\\boldsymbol{\\omega}_{wb}^b]_{\\times}{\\mathbf{R}^w_b}^T \n",
    "\\end{equation}\n",
    "\n",
    "Matrix inversion/ transpose lemma\n",
    "\\begin{equation}\n",
    "(\\mathbf{A}\\mathbf{B})^T=\\mathbf{B}^T\\mathbf{A}^T\n",
    "\\end{equation}\n",
    "\n",
    "Differentiation of a vector matrix product\n",
    "\\begin{equation}\n",
    "\\frac{d}{dt}(\\mathbf{A}\\mathbf{b})=\\dot{\\mathbf{A}}\\mathbf{b}+\\mathbf{A}\\dot{\\mathbf{b}}\n",
    "\\end{equation}\n",
    "\n",
    "Differentiationof a vector expressed in a rotating frame of referece\n",
    "\\begin{equation}\n",
    "\\frac{d}{dt}(\\mathbf{v}^b)=\\frac{d}{dt}(\\mathbf{R}^T\\mathbf{v}^w)=\\dot{\\mathbf{R}}^T\\mathbf{v}^w+\\mathbf{R}^T\\dot{\\mathbf{v}}^w \n",
    "\\end{equation}\n",
    "\n",
    "\n"
   ]
  },
  {
   "attachments": {},
   "cell_type": "markdown",
   "metadata": {
    "id": "Lbwdu9eh6dlm"
   },
   "source": [
    "### **Example 1.4 - 3D Kinematics**\n",
    ">The following figure identifies three position vectors $\\mathbf{p}^a,~\\boldsymbol{\\rho}^a$ and $\\mathbf{r}^b$. \n",
    "\n",
    "<center>\n",
    "<div>\n",
    "<img src=\"https://drive.google.com/uc?export=view&id=1Nlyb4AwJ2BPbhsvzIDIm0NtMbSoLF2JW\"\n",
    "    width=\"400\"/>\n",
    "</div>\n",
    "</center>\n",
    "\n",
    "\n",
    ">Show that \n",
    "\\begin{equation*}\n",
    "\\ddot{\\mathbf{p}}^a=\\ddot{\\boldsymbol{\\rho}}^a+\\mathbf{R}_b^a(\\ddot{\\mathbf{r}}^b+2\\mathbf{\\Omega}_{ab}^b\\dot{\\mathbf{r}}^b \n",
    "+\\dot{\\mathbf{\\Omega}}_{ab}^b\\mathbf{r}^b+(\\mathbf{\\Omega}_{ab}^b)^2\\mathbf{r}^b)\n",
    "\\end{equation*}\n",
    "\n",
    "\n",
    "\n",
    "\n",
    "<br />\n",
    "<br />\n",
    "<br />\n",
    "<br />\n",
    "<br />\n",
    "<br />\n",
    "<br />\n",
    "<br />\n",
    "<br />\n",
    "<br />\n",
    "\n",
    "<br />\n",
    "<br />\n",
    "<br />\n",
    "<br />\n",
    "<br />\n",
    "<br />\n",
    "<br />\n",
    "<br />\n",
    "<br />\n",
    "<br />\n",
    "<br />\n",
    "\n",
    "<br />\n",
    "<br />\n",
    "<br />\n",
    "<br />\n",
    "<br />\n",
    "<br />\n",
    "<br />\n",
    "<br />\n",
    "<br />\n",
    "<br />\n",
    "<br />\n",
    "<br />"
   ]
  },
  {
   "attachments": {},
   "cell_type": "markdown",
   "metadata": {
    "id": "HIarmi-VHY_a"
   },
   "source": [
    "### **Example 1.5 -  Rotation Dynamics**\n",
    ">Derive the Euler equation of motion for a rigid body with Inertia $\\mathbf{I}^b$ expressed in body fixed frame $\\{B\\}$.\n",
    "\\begin{equation*}\n",
    "\\boldsymbol{\\Gamma}^b_{ib}= \\mathbf{I}^b \\boldsymbol{\\alpha}_{ib}^b+\\boldsymbol{\\omega}_{ib}^b\\times  \\mathbf{I}^b\\boldsymbol{\\omega}_{ib}^b\n",
    "\\end{equation*}\n",
    "\n",
    "\n",
    "<br />\n"
   ]
  },
  {
   "attachments": {},
   "cell_type": "markdown",
   "metadata": {
    "id": "8F7GhEPFHY_b"
   },
   "source": [
    "\n",
    "<center>\n",
    "<div>\n",
    "<img src=\"https://drive.google.com/uc?export=view&id=1VPhC4eBwUgXLwLjvPipzU9ErBYtuNh7e\"\n",
    "    width=\"700\"/>\n",
    "</div>\n",
    "</center>\n"
   ]
  },
  {
   "attachments": {},
   "cell_type": "markdown",
   "metadata": {
    "id": "Lpi5xJoe767E"
   },
   "source": [
    "## **Exercise 1.5**\n",
    ">Figure below illustrates two body fixed frames $\\{A\\}$ and $\\{B\\}$ attached to two robots, and an earth fixed navigation frame $\\{W\\}$. Starting from the vector relationship $\\mathbf{p}^w_{wb}=\\mathbf{p}^w_{wa}+\\mathbf{p}^w_{ab}$, show that \n",
    "\\begin{equation*}\n",
    "\\dot{\\mathbf{p}}^a_{ab}=-\\mathbf{v}_{wa}^a+\\mathbf{R}_b^a \\mathbf{v}_{wb}^b-\\boldsymbol{\\omega}_{wa}^a\\times\\mathbf{p}^a_{ab}\n",
    "\\end{equation*}\n",
    "where $\\mathbf{p}$ denotes position vectors, $\\mathbf{v}$ denotes velocity vectors, $\\boldsymbol{\\omega}$ denotes the angular velocity vectors and $\\mathbf{R}$ denotes the rotation matrice.\n",
    "\n",
    "<center>\n",
    "<div>\n",
    "<img src=\"https://drive.google.com/uc?export=view&id=13uC3p9Sq1SafP9rgL-zkSUi6X6lofxkC\"\n",
    "    width=\"500\"/>\n",
    "</div>\n",
    "</center>\n",
    "\n",
    "<br />\n",
    "<br />\n",
    "<br />\n",
    "<br />\n",
    "<br />\n",
    "<br />\n",
    "<br />\n",
    "<br />\n",
    "<br />\n",
    "<br />\n",
    "<br />\n",
    "<br />"
   ]
  },
  {
   "attachments": {},
   "cell_type": "markdown",
   "metadata": {
    "id": "lQkHK9wK3C_M"
   },
   "source": [
    "## **Exercise 1.6**\n",
    "> The rotation kinematics in euler angles can be found by expressing the roll pitch and yaw rates in the body fixed frame of reference. Find J1 and J2 of the folllowing equations using hand calculation or sympy. \n",
    "\n",
    "> Comment on the solvability of the left hand side of equations (1) and (2) when the pitch angle becomes 90 degrees. \n",
    "\n",
    "\n"
   ]
  },
  {
   "cell_type": "code",
   "execution_count": null,
   "metadata": {
    "colab": {
     "base_uri": "https://localhost:8080/",
     "height": 145
    },
    "executionInfo": {
     "elapsed": 767,
     "status": "ok",
     "timestamp": 1683689821186,
     "user": {
      "displayName": "Oscar De Silva",
      "userId": "01748366862683392619"
     },
     "user_tz": 150
    },
    "id": "olBg8IxrxA7i",
    "outputId": "ccb8c016-ad1f-4faa-d1e8-6d62111d0266"
   },
   "outputs": [
    {
     "data": {
      "text/latex": [
       "$\\displaystyle \\left[\\begin{matrix}1 & 0 & - \\sin{\\left(θ \\right)}\\\\0 & \\cos{\\left(ϕ \\right)} & \\sin{\\left(ϕ \\right)} \\cos{\\left(θ \\right)}\\\\0 & - \\sin{\\left(ϕ \\right)} & \\cos{\\left(θ \\right)} \\cos{\\left(ϕ \\right)}\\end{matrix}\\right]$"
      ],
      "text/plain": [
       "Matrix([\n",
       "[1,       0,       -sin(θ)],\n",
       "[0,  cos(ϕ), sin(ϕ)*cos(θ)],\n",
       "[0, -sin(ϕ), cos(θ)*cos(ϕ)]])"
      ]
     },
     "metadata": {},
     "output_type": "display_data"
    },
    {
     "data": {
      "text/latex": [
       "$\\displaystyle \\left[\\begin{matrix}1 & \\sin{\\left(ϕ \\right)} \\tan{\\left(θ \\right)} & \\cos{\\left(ϕ \\right)} \\tan{\\left(θ \\right)}\\\\0 & \\cos{\\left(ϕ \\right)} & - \\sin{\\left(ϕ \\right)}\\\\0 & \\frac{\\sin{\\left(ϕ \\right)}}{\\cos{\\left(θ \\right)}} & \\frac{\\cos{\\left(ϕ \\right)}}{\\cos{\\left(θ \\right)}}\\end{matrix}\\right]$"
      ],
      "text/plain": [
       "Matrix([\n",
       "[1, sin(ϕ)*tan(θ), cos(ϕ)*tan(θ)],\n",
       "[0,        cos(ϕ),       -sin(ϕ)],\n",
       "[0, sin(ϕ)/cos(θ), cos(ϕ)/cos(θ)]])"
      ]
     },
     "metadata": {},
     "output_type": "display_data"
    }
   ],
   "source": [
    "θ = sympy.Symbol('θ')\n",
    "ϕ = sympy.Symbol('ϕ')\n",
    "ψ = sympy.Symbol('ψ')\n",
    "\n",
    "e1 = sympy.Matrix([1,0,0])\n",
    "e2 = sympy.Matrix([0,1,0])\n",
    "e3 = sympy.Matrix([0,0,1])\n",
    "\n",
    "J1 = sympy.Matrix.hstack(e1,rotsym(\"x\",ϕ).T @ e2,  rotsym(\"x\",ϕ).T*rotsym(\"y\",θ).T @ e3)\n",
    "display(J1)\n",
    "J2 = sympy.simplify(J.inv())\n",
    "display(J2)"
   ]
  },
  {
   "attachments": {},
   "cell_type": "markdown",
   "metadata": {
    "id": "7uWZhkfDJBCv"
   },
   "source": [
    "# **Rotation representation - Quaternions**\n",
    "\n",
    "* Thus far we've looked at two ways of representing rotations, i.e., rotation matrices and Euler angles. \n",
    "* In Exercise 1.6 we showed that the Euler angle parameterization can approach singularity (gimbal lock) at `pitch=90`, while Rotation matrices maintains the ability to operate without approaching numerical singularities. \n",
    "* However the number of paramters of rotation matrices is 9 which makes mathmatical programming heavily overparameterized to overcome the singularity issue. \n",
    "* Unit quaternion parameterization uses a  4 dimensional unit vector to represent rotations with the desirable property of not producing singular results at gimbal lock configurations. \n",
    "* The rotation kinematics using quaternion parameterization can be represented as below which is singularity free. \n",
    "*Quaternions still have an undesirable property termed double wrapping i.e., there are two quaternions that can represent the same unique rotation in SO3. \n",
    "\n",
    "* This can be avoided in practice by forcing the first element of the quaternion to be always positive. Thereby forcing a one to one mapping using unit quaternions. \n",
    "\n",
    "\n",
    "* There are other parameterizations that are commonly used in practice especially for mathematical analysis. \n",
    "* `Axis angle` parameterization represents any arbitary 3D rotation as a rotation about a 3D unit vector $\\vec{\\mathbf{a}}$ with an angle $\\phi$.  \n",
    "* `Rotationa vector` parameterization represents the axis and the angle as a single vector as follows:\n",
    "\\begin{equation}\n",
    "\\boldsymbol{\\theta}=\\vec{\\mathbf{a}}.\\phi\n",
    "\\end{equation}. \n",
    "* Note that both these representations (axis angle and rotation vector) wraps around at 180 degrees, hence have a discontinuity at 180. But these are important paramters to know as it will be heavily used when dealing with mathematical optimizations and analysis involving rotations in 3D.\n",
    "\n",
    "<center>\n",
    "<div>\n",
    "<img src=\"https://drive.google.com/uc?export=view&id=1ga-wjYwaP40eWKRsZfqXD31MybKx7o8G\"\n",
    "    width=\"550\"/>\n",
    "</div>\n",
    "</center>\n"
   ]
  },
  {
   "attachments": {},
   "cell_type": "markdown",
   "metadata": {
    "id": "iZqqpw0VJM5v"
   },
   "source": [
    "### **Example 1.6**\n",
    "\n",
    ">The orientation of a body frame is having a roll of $15^{\\circ}$, a pitch of $30^{\\circ}$, and a yaw of $45^{\\circ}$. Express this rotation as \n",
    "1.   Rtoation Matrix $R$\n",
    "2.   Quarternion $\\boldsymbol{q}$\n",
    "3.   Rotation vector $\\boldsymbol{\\theta}$\n",
    "4.   Axis angle $(\\boldsymbol{a},\\phi)$\n",
    "* For this we use a the jaxlie package."
   ]
  },
  {
   "cell_type": "code",
   "execution_count": null,
   "metadata": {
    "id": "oF__23q0JnBK"
   },
   "outputs": [],
   "source": [
    "%%capture  \n",
    "#the above line surpresses the output of this cell\n",
    "!pip install jaxlie"
   ]
  },
  {
   "cell_type": "code",
   "execution_count": 1,
   "metadata": {
    "colab": {
     "base_uri": "https://localhost:8080/"
    },
    "executionInfo": {
     "elapsed": 206,
     "status": "ok",
     "timestamp": 1683689768582,
     "user": {
      "displayName": "Oscar De Silva",
      "userId": "01748366862683392619"
     },
     "user_tz": 150
    },
    "id": "MZU8Tq1dKFEa",
    "outputId": "6719b6bc-9785-45e3-e6b0-0a3da2a14d9e"
   },
   "outputs": [
    {
     "name": "stdout",
     "output_type": "stream",
     "text": [
      "1.As Rotation Matrix :\n",
      "[[ 3.7252903e-08  5.0000000e-01  8.6602539e-01]\n",
      " [ 0.0000000e+00  8.6602545e-01 -5.0000000e-01]\n",
      " [-9.9999994e-01  0.0000000e+00  5.9604645e-08]]\n",
      "2.As Quarternion : [ 0.68301266  0.1830127   0.68301266 -0.1830127 ]\n",
      "3.As Rotation Vector : [ 0.41038024  1.5315598  -0.41038024]\n",
      "4.As Axis angle : 1.6378337 [ 0.25056282  0.93511313 -0.25056282]\n",
      "5.As Euler Angles : [ 0.04554163  1.5703081  -0.04554163]\n"
     ]
    }
   ],
   "source": [
    "import numpy as np\n",
    "from jaxlie import SO3\n",
    "from numpy import pi\n",
    "\n",
    "#The rotation is expressed as an SO3 type. This allows to do all differnet representations easily\n",
    "Rot = SO3.from_rpy_radians(30/180*pi,90/180*pi,0/180*pi)  #initialize from RPY\n",
    "#Rot = SO3(np.array([0.89769256 0.01828305 0.28532013 0.33527035])) #initialize from quaternion\n",
    "#Rot = SO3.from_matrix(np.array([[ 0.61237246, -0.59150636,  0.524519  ],\n",
    "#                                [ 0.6123724,   0.7745191 ,  0.15849364],\n",
    "#                                [-0.49999997,  0.22414386,  0.8365163 ]])) #initialize from mat\n",
    "#Rot = SO3.exp(np.array([0.03786646, 0.59093344, 0.69438654])) #initialize from rot vector\n",
    "\n",
    "# Rotation in 4 different forms\n",
    "print(\"1.As Rotation Matrix :\")\n",
    "print(Rot.as_matrix())\n",
    "print(\"2.As Quarternion :\",np.array(Rot.parameters()))\n",
    "print(\"3.As Rotation Vector :\",Rot.log())\n",
    "print(\"4.As Axis angle :\",np.linalg.norm(Rot.log()), Rot.log()/np.linalg.norm(Rot.log()))\n",
    "print(\"5.As Euler Angles :\",np.array([Rot.compute_roll_radians(),Rot.compute_pitch_radians(),Rot.compute_yaw_radians()]))\n",
    "\n"
   ]
  },
  {
   "attachments": {},
   "cell_type": "markdown",
   "metadata": {
    "id": "rggIzr-6KMRe"
   },
   "source": [
    "### **Exercise 1.7**\n",
    "\n",
    ">The orientation of a body frame is having the following quarternion $q = [ 0.0 ,-1.0, 0.0 , 0.0]$. Express the rotation as following:\n",
    "1.   Rotation Matrix $R$\n",
    "2.   Roll pitch Yaw $(roll~,pith~,yaw)$\n",
    "3.   Rotation vector $\\boldsymbol{\\theta}$\n",
    "4.   Axis angle $(\\boldsymbol{a},\\phi)$"
   ]
  },
  {
   "attachments": {},
   "cell_type": "markdown",
   "metadata": {
    "id": "rUy6CEbuHY_Y"
   },
   "source": [
    "# **Appendix A - Key Proofs**\n",
    "\n",
    "Show that $\\mathbf{R}_{a(t+\\delta t)}^{a(t)}=\\mathbf{I}+\\boldsymbol{\\delta\\theta}_{\\times}$, where $\\boldsymbol{\\delta\\theta}=(\\delta\\theta_x,~\\delta\\theta_y,~\\delta\\theta_z)^T$ denotes infinitesimal rotations about $x,~y$ and $z$ axis which occurs during $\\delta t$.  Using the result show that $\\dot{\\mathbf{R}}_b^a=\\mathbf{R}_b^a\\mathbf{\\Omega}_{ab}^b$\n"
   ]
  },
  {
   "attachments": {},
   "cell_type": "markdown",
   "metadata": {
    "id": "FtcBR8GKHY_Z"
   },
   "source": [
    "<center>\n",
    "<div>\n",
    "<img src=\"https://drive.google.com/uc?export=view&id=1rH1XZsQFyi3bRKdSGAs-ovq91BL43clx\"\n",
    "    width=\"500\"/>\n",
    "</div>\n",
    "</center>\n",
    "\n",
    "\n",
    "<center>\n",
    "<div>\n",
    "<img src=\"https://drive.google.com/uc?export=view&id=1aDYitfYOOqItVHBVbK4W58iYx0EMR07c\"\n",
    "    width=\"500\"/>\n",
    "</div>\n",
    "</center>\n"
   ]
  }
 ],
 "metadata": {
  "celltoolbar": "Edit Metadata",
  "colab": {
   "provenance": [
    {
     "file_id": "1JCgHFyhhtpjkvF0vBlICwNsCxY3vXXi-",
     "timestamp": 1684157511721
    },
    {
     "file_id": "1pshiUZHJ_zSQCLciRR91sGGCvTTuxMQP",
     "timestamp": 1683690188940
    },
    {
     "file_id": "https://github.com/sendtooscar/GNCgrad/blob/master/docs/jupyter/iGN_topic_1.ipynb",
     "timestamp": 1652105675462
    }
   ]
  },
  "kernelspec": {
   "display_name": "Python 3 (ipykernel)",
   "language": "python",
   "name": "python3"
  },
  "language_info": {
   "codemirror_mode": {
    "name": "ipython",
    "version": 3
   },
   "file_extension": ".py",
   "mimetype": "text/x-python",
   "name": "python",
   "nbconvert_exporter": "python",
   "pygments_lexer": "ipython3",
   "version": "3.10.7"
  },
  "toc": {
   "base_numbering": 1,
   "nav_menu": {},
   "number_sections": true,
   "sideBar": true,
   "skip_h1_title": false,
   "title_cell": "Table of Contents",
   "title_sidebar": "Contents",
   "toc_cell": false,
   "toc_position": {},
   "toc_section_display": true,
   "toc_window_display": true
  }
 },
 "nbformat": 4,
 "nbformat_minor": 4
}
