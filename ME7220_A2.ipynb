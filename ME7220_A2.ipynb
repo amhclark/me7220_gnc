{
 "cells": [
  {
   "attachments": {},
   "cell_type": "markdown",
   "metadata": {},
   "source": [
    "# ME 7220 Assignment 2\n",
    "Aidan Clark\n",
    "\n",
    "Student No. 20191990"
   ]
  },
  {
   "attachments": {},
   "cell_type": "markdown",
   "metadata": {},
   "source": [
    "## Exercise 2.1\n",
    "\n",
    "A car has an initial speed of $v_{max}$ (meters per second) and is located a distance $-p$ (meters) from a stopping location. If the car can produce a maximun deceleration of $d_{max}$ (meters per second squared), find the distance $s$ (meters) at which the brakes should be applied (as a function of $v_{max}$ and $d_{max}$) so that the car stops at the stopping line? Clearly state your assumptions."
   ]
  },
  {
   "cell_type": "code",
   "execution_count": null,
   "metadata": {},
   "outputs": [],
   "source": [
    "#@title #**Example 1: Openloop controller for pit stop** { run: \"auto\" }\n",
    "#@markdown This simulator models the state propogation of vehicle approaching a pit stop. A maximum deceleration of $d\\sim \\mathcal{N}(5,0.5)m/s^2$ is applied at a stopping distance predetermined by a controller. Using the simulator given here determine a good stopping distance to appy the breaks through trial and error. Is the simulation deterministic or stochastic? What is the initial condition of this simulation?\n",
    "\n",
    "\n",
    "\n",
    "\n",
    "import numpy as np\n",
    "import matplotlib.pyplot as plt\n",
    "from IPython.display import clear_output\n",
    "\n",
    "# We maintain the following numpy vectors  dx = f(x,u,t,param,w) , y = h(x,param,v)\n",
    "\n",
    "# 1. initialization - init_parameters() -  #TODO by STUDENT : update initialization\n",
    "dt = 0.01 ;sig_n_u = 0.5 ;sig_n_p = 0.5 ;sig_n_v = 0.005; t_end = 20.0; \n",
    "max_decel = 5 ;max_vel = 10.0  ; min_vel = 0.05  # Due to friction there is a minumum velocity that can be achieved\n",
    "max_decel_act = max_decel  + abs(sig_n_u*np.random.randn()+0.3)\n",
    "p0 = -30.0  #m\n",
    "v0 = max_vel \n",
    "y_p0 = p0 + sig_n_p*np.random.randn()\n",
    "y_v0 = v0 + sig_n_v*np.random.randn()\n",
    "X = []; T= []; U =[]; Y=[]; # Variables for data acquisition\n",
    "\n",
    "# these vectors are needed to define a system model\n",
    "x = np.array([p0,v0]) # state vector - variables\n",
    "y = np.array([y_p0,y_v0]) # measurment vector - variables\n",
    "param = np.array([dt])  # the parameter vector - constants\n",
    "\n",
    "stopping_distance = -(max_vel**2)/(2*max_decel)  # change this to get the result\n",
    "stopping_distance = -10 #@param {type:\"slider\", min:-30, max:1, step:1.0}\n",
    "\n",
    "# 2. Simulation  \n",
    "for t in np.arange(0,t_end,dt):\n",
    "  # Controller -  open loop pre compute\n",
    "  if x[0]>stopping_distance and x[1]>min_vel:\n",
    "    u_ref = -max_decel\n",
    "    u_ref_act = -max_decel_act\n",
    "  else:\n",
    "    u_ref = 0.0 \n",
    "    u_ref_act =0.0 \n",
    "  \n",
    "  u = u_ref_act\n",
    "\n",
    "\n",
    "  # READ CURRENT STATE X\n",
    "  p = x[0]\n",
    "  v = x[1]\n",
    "  a = u\n",
    "\n",
    "  # Apply System model\n",
    "  p = p + v*dt + 0.5*(a)*dt**2\n",
    "  v = v + (a)*dt\n",
    "  if abs(v) <= min_vel: # deadzone for velocity\n",
    "    v=0.0\n",
    "\n",
    "  # Apply Measurement model\n",
    "  y_p = p + sig_n_p*np.random.randn()\n",
    "  y_v = v + sig_n_v*np.random.randn()\n",
    "\n",
    "  x = np.array([p,v])\n",
    "  y = np.array([y_p,y_v])\n",
    "  u = u\n",
    "  \n",
    "  #Data Aquisition\n",
    "  X.append(x) \n",
    "  T.append(t)\n",
    "  Y.append(y)\n",
    "  U.append(u)\n",
    "\n",
    "# 4. visualization functions\n",
    "print(\"Final position : \", x[0], \" m\")\n",
    "fig1= plt.figure()\n",
    "p = plt.plot(T, X)\n",
    "plt.xlabel('time (s)')\n",
    "plt.ylabel('Position /  Velocity')\n",
    "plt.gca().legend(('Position','Velocity'))\n",
    "\n",
    "\n",
    "#fig1 = plt.figure()\n",
    "#p = plt.plot(T, Y)\n",
    "\n",
    "fig1 = plt.figure()\n",
    "p = plt.plot(T, U)\n",
    "plt.xlabel('time (s)')\n",
    "plt.ylabel('Input acceleration ')\n",
    "print()"
   ]
  },
  {
   "attachments": {},
   "cell_type": "markdown",
   "metadata": {},
   "source": [
    "## Exercise 2.2\n",
    "\n",
    "Write a code to simualte a a vehicle odometer which is modeled using the following equation.\n",
    "$$y_v=v +\\eta~~~~ \\\\ \\eta \\sim \\mathcal{N}(0,\\sigma_v)$$\n",
    "\n",
    "with $p=-30m$, $v=10m/s$ and $\\sigma_v = 0.1 m/s $. Assuming that the velocity is not changing for 100 time steps, plot the output of the velocity sensor $y_v$ for the corresponding 100 time steps. "
   ]
  },
  {
   "cell_type": "code",
   "execution_count": null,
   "metadata": {},
   "outputs": [],
   "source": []
  },
  {
   "attachments": {},
   "cell_type": "markdown",
   "metadata": {},
   "source": [
    "## Exercise 2.3\n",
    "\n",
    "Using the simulation above comment on what happens to the system response (position and velocity tracking error) when each of the following parameters are changed.\n",
    " 1. $K_p$\n",
    " 2. $K_d$\n",
    " 3. $K_i$"
   ]
  },
  {
   "cell_type": "code",
   "execution_count": null,
   "metadata": {},
   "outputs": [],
   "source": []
  },
  {
   "attachments": {},
   "cell_type": "markdown",
   "metadata": {},
   "source": [
    "## Exercise 2.4\n",
    "\n",
    "Consider the following LTI model and comment on\n",
    " \n",
    " \\begin{equation} \\begin{array}{c} \n",
    "\\dot{\\mathbf{x}} = A\\mathbf{x} + B\\mathbf{u} \\\\ \n",
    "\\mathbf{y} = C\\mathbf{x}\n",
    "\\end{array}\\end{equation}\n",
    "\n",
    "$$A=\\begin{pmatrix}5 & 2 &2\\\\ 1 & 1 &0 \\\\ 1 & 2 &0\\end{pmatrix}, ~B=\\begin{pmatrix}1 & 0 \\\\ 0 & 0 \\\\0 &1 \\end{pmatrix},~ C = I_3 $$\n",
    "\n",
    " a. Controlability of the model.\n",
    "\n",
    " b. Stability of the system with no inputs. (stability of the A matrix)\n",
    "\n",
    " c.Find stabilizing gains $K$ for the system \n",
    " \n",
    " d.Plot the resulting response of all states for an arbitrary initial condition."
   ]
  },
  {
   "cell_type": "code",
   "execution_count": null,
   "metadata": {},
   "outputs": [],
   "source": []
  },
  {
   "attachments": {},
   "cell_type": "markdown",
   "metadata": {},
   "source": [
    "## Exercise 2.5\n",
    "\n",
    "Express the model given in the previous Exercise 4 as a discrete model of the form:\n",
    "$$\\mathbf{x}_{k+1}=A_k\\mathbf{x}_{k}+B_k\\mathbf{u}_{k} \\\\\n",
    "\\mathbf{y}_{k}=C_k\\mathbf{x}_{k}$$\n",
    "Use a samplig time of $dt=0.001$. Comment on the stability of the discrete system with no inputs."
   ]
  },
  {
   "cell_type": "code",
   "execution_count": null,
   "metadata": {},
   "outputs": [],
   "source": []
  },
  {
   "attachments": {},
   "cell_type": "markdown",
   "metadata": {},
   "source": [
    "## Exercise 2.6\n",
    "\n",
    "Design an LQR controller to stabilize the model given in exercise 4 with  Q=10∗I3  and  R=1 . Plot the resulting tragectory of the system for an arbitrary initial condition."
   ]
  },
  {
   "cell_type": "code",
   "execution_count": null,
   "metadata": {},
   "outputs": [],
   "source": []
  },
  {
   "attachments": {},
   "cell_type": "markdown",
   "metadata": {},
   "source": [
    "## Exercise 2.7\n",
    "\n",
    "Consider the following linear system given in the code. Find a stabilizing LQR gain $K$ for the system by selecting a suitable Q and R Matrix. Tune the gains such that it achieve a settling time of less than 7 seconds. "
   ]
  },
  {
   "cell_type": "code",
   "execution_count": null,
   "metadata": {},
   "outputs": [],
   "source": [
    "# The state space model\n",
    "A= np.array([[0, 1.0, 0.0, 0.0],[0, 0,0,0],[0, 0,0,1],[0, 0,0,0]])\n",
    "B= np.array([[0,0], [1.0,0],[0,0], [0,1.0]]);\n",
    "C= np.eye(4);\n",
    "\n",
    "\n",
    "\n",
    "Kc =np.zeros([2,4])  # TODO STUDENT:  REPLACE THIS GAIN USING AN LQR CONTROLLER\n",
    "\n",
    "print(Kc)\n",
    "#the new autonoumous system becomes dx= (A-B*Kc)x\n",
    "A_new=(A-B@Kc)\n",
    "\n",
    "sys = ct.ss(A_new,[0,0,0,0],C,0)  # Define the system \n",
    "T, yout =ct.initial_response(sys,np.linspace(0.0, 7.0, num=50),[1,1,1,1])  # simulate the system model\n",
    "#for 7 seconds using an initial condition of (1,2)\n",
    "fig, axs = plt.subplots(2, 1)\n",
    "axs[0].plot(T,yout[0]);axs[0].grid()\n",
    "axs[1].plot(T,yout[1]);axs[1].grid()"
   ]
  },
  {
   "attachments": {},
   "cell_type": "markdown",
   "metadata": {},
   "source": [
    "## Exercise 2.8\n",
    "\n",
    "Using the simulation above establish the region of attraction for the system using trial and error. A hand drawing of the phase plane plot generated using trials of the simulator is sufficient. Please use states $p_x$ and $\\theta$ as the x and y axis of the phase plane plot.\n",
    "\n",
    "Comment on how are these initial conditions ( outside region of attraction) handled in application?"
   ]
  },
  {
   "cell_type": "code",
   "execution_count": null,
   "metadata": {},
   "outputs": [],
   "source": []
  }
 ],
 "metadata": {
  "kernelspec": {
   "display_name": "Python 3",
   "language": "python",
   "name": "python3"
  },
  "language_info": {
   "name": "python",
   "version": "3.10.7"
  },
  "orig_nbformat": 4
 },
 "nbformat": 4,
 "nbformat_minor": 2
}
