{
  "cells": [
    {
      "attachments": {},
      "cell_type": "markdown",
      "metadata": {
        "id": "HRgDh7Sq1uQw"
      },
      "source": [
        " **This tutorial is created from documentation of the pydrake package.**\n",
        "\n",
        "## **Background**\n",
        "Many engineering problems can be formulated as mathematical optimization problems, and solved by numerical solvers. A generic mathematical optimization problem can be formulated as\n",
        "$\\begin{aligned}\n",
        "\\begin{array}{rl}\n",
        "                       \\min_x \\;  &  f(x)\n",
        "   \\\\\\text{subject to}  \\;  &  x \\in\\mathbb{S}\n",
        "   \\end{array}\n",
        "   \\qquad\n",
        "   \\boxed{\n",
        "         \\begin{array}{ll}\n",
        "      \\text{The real-valued decision variable is}       &x\\\\\n",
        "      \\text{The real-valued cost function is}           &f(x)\\\\\n",
        "      \\text{The constraint set is}                      &\\mathbb{S}\\\\\n",
        "      \\text{The optimal } x \\text{ that minimizes the cost function is}  &x^*\n",
        "      \\end{array}\n",
        "      }\n",
        "\\end{aligned}$\n",
        "\n",
        "where $x$ is the real-valued decision variable(s), $f(x)$ is the real-valued *cost function*, $\\mathbb{S}$ is the constraint set for $x$. Our goal is to find the optimal $x^*$ within the constraint set $\\mathbb{S}$, such that $x^*$ minimizes the cost function $f(x)$.\n",
        "\n",
        "For example, the following optimization problem determines the value of $x$\n",
        "that minimizes $x^3 + 2x + 1$ subject to $x \\ge 1$.\n",
        "$\\begin{aligned}\n",
        "\\begin{array}{rl}\n",
        "\\min_x\\;&x^3 + 2x + 1\\\\\n",
        "\\text{subject to}\\;\\;&x \\ge 1\n",
        "\\end{array}\n",
        "\\quad\n",
        "\\boxed{\n",
        "      \\begin{array}{ll}\n",
        "          \\text{The real-valued decision variable is}         &  x\\\\\n",
        "          \\text{The real-valued cost function }f(x) \\text{ is} &  x^3 + 2x + 1\\\\\n",
        "          \\text{The set }\\mathbb{S} \\text{ of constraints is}      &  x \\ge 1\\\\\n",
        "          \\text{The value that minimizes the cost function is}    &  x^* = 1\n",
        "   \\end{array}\n",
        "}\n",
        "\\end{aligned}$\n",
        "\n",
        "In general, how an optimization problem is solved depends on its categorization (categories include Linear Programming, Quadratic Programming, Mixed-integer Programming, etc.). Categorization depends on properties of both the cost function $f(x)$ and the constraint set $\\mathbb{S}$. For example, if the cost function $f(x)$ is a linear function of $x$, and the constraint $\\mathbb{S}$ is a linear set $\\mathbb{S} = \\{x | Ax\\le b\\}$, then we have a *linear programming* problem, which is efficiently solved with certain solvers.\n",
        "\n",
        "There are multiple solvers for each category of optimization problems,\n",
        "but each solver has its own API and data structures.\n",
        "Frequently, users need to rewrite code when they switch solvers.\n",
        "To remedy this, Drake provides a common API through the *MathematicalProgram* class.\n",
        "In addition to avoiding solver-specific code,\n",
        "the constraint and cost functions can be written in symbolic form (which makes code more readable).\n",
        "In these ways, Drake's MathematicalProgram is akin to [YALMIP](https://yalmip.github.io/) in MATLAB or [JuMP](https://github.com/JuliaOpt/JuMP.jl) in Julia, and we support both Python and C++.\n",
        "<br> Note: Drake supports many [solvers](https://drake.mit.edu/doxygen_cxx/group__solvers.html)\n",
        "(some are open-source and some require a license).\n",
        "\n",
        "Some categories of optimization problems looked at here are as follows:\n",
        "* Linear programming\n",
        "* Quadratic programming\n",
        "* Nonlinear nonconvex programming\n",
        "* Sum-of-squares programming\n",
        "\n",
        "This tutorial provides the basics of Drake's MathematicalProgram.\n",
        "\n",
        "A list of solvers used: https://drake.mit.edu/doxygen_cxx/group__solvers.html\n"
      ]
    },
    {
      "attachments": {},
      "cell_type": "markdown",
      "metadata": {
        "id": "iddzCnwD2xOl"
      },
      "source": [
        "## Basics of MathematicalProgram class\n",
        "Drake's MathematicalProgram class contains the mathematical formulation of an optimization problem, namely the decision variables $x$, the cost function $f(x)$, and the constraint set $\\mathbb{S}$.\n",
        "\n",
        "### Initialize a MathematicalProgram object\n",
        "\n",
        " To initialize this class, first create an empty MathematicalProgram as"
      ]
    },
    {
      "cell_type": "code",
      "execution_count": 1,
      "metadata": {
        "id": "buwNDG3R3Vq_"
      },
      "outputs": [],
      "source": [
        "%%capture\n",
        "!pip install underactuated"
      ]
    },
    {
      "cell_type": "code",
      "execution_count": 2,
      "metadata": {
        "id": "xG-LNFNC1trK"
      },
      "outputs": [],
      "source": [
        "from pydrake.solvers import MathematicalProgram\n",
        "import numpy as np\n",
        "import matplotlib.pyplot as plt\n",
        "\n",
        "# Create an empty MathematicalProgram named prog (with no decision variables,\n",
        "# constraints or cost function)\n",
        "prog = MathematicalProgram()"
      ]
    },
    {
      "attachments": {},
      "cell_type": "markdown",
      "metadata": {
        "id": "524kfc2L3jlT"
      },
      "source": [
        "\n",
        "### Adding decision variables\n",
        "Shown below, the function `NewContinuousVariables` adds two new continuous decision variables to `prog`.  The newly added variables are returned as `x` in a numpy array.\n",
        "<br><font size=-1> Note the range of the variable is a continuous set, as opposed to binary variables which only take discrete value 0 or 1.</font>"
      ]
    },
    {
      "cell_type": "code",
      "execution_count": 3,
      "metadata": {
        "id": "1978UTkowcVh"
      },
      "outputs": [],
      "source": [
        "x = prog.NewContinuousVariables(2)\n"
      ]
    },
    {
      "attachments": {},
      "cell_type": "markdown",
      "metadata": {
        "id": "r2u1KD4T3pnT"
      },
      "source": [
        "The default names of the variable in *x* are \"x(0)\" and \"x(1)\".  The next line prints the default names and types in `x`, whereas the second line prints the symbolic expression \"1 + 2x[0] + 3x[1] + 4x[1]\"."
      ]
    },
    {
      "attachments": {},
      "cell_type": "markdown",
      "metadata": {
        "id": "3cxcsqBu38V7"
      },
      "source": []
    },
    {
      "cell_type": "code",
      "execution_count": 4,
      "metadata": {
        "colab": {
          "base_uri": "https://localhost:8080/"
        },
        "id": "uG7iGoOO3pTz",
        "outputId": "6393b45b-ac2b-430b-de64-9b43dff10a1e"
      },
      "outputs": [
        {
          "name": "stdout",
          "output_type": "stream",
          "text": [
            "[Variable('x(0)', Continuous) Variable('x(1)', Continuous)]\n",
            "(1 + 2 * x(0) + 7 * x(1))\n"
          ]
        }
      ],
      "source": [
        "print(x)\n",
        "print(1 + 2*x[0] + 3*x[1] + 4*x[1])"
      ]
    },
    {
      "attachments": {},
      "cell_type": "markdown",
      "metadata": {
        "id": "Cu2CCD0C8Boq"
      },
      "source": [
        "To create an array `y` of two variables named \"dog(0)\"\" and \"dog(1)\", pass the name \"dog\" as a second argument to `NewContinuousVariables()`. Also shown below is the printout of the two variables in `y` and a symbolic expression involving `y`."
      ]
    },
    {
      "cell_type": "code",
      "execution_count": 5,
      "metadata": {
        "colab": {
          "base_uri": "https://localhost:8080/"
        },
        "id": "fLkECkR03n_m",
        "outputId": "0a2dffa9-ccf9-4122-9f7d-e9165067943a"
      },
      "outputs": [
        {
          "name": "stdout",
          "output_type": "stream",
          "text": [
            "[Variable('dog(0)', Continuous) Variable('dog(1)', Continuous)]\n",
            "(2 * dog(0) + pow(dog(1), 3))\n"
          ]
        }
      ],
      "source": [
        "y = prog.NewContinuousVariables(2, \"dog\")\n",
        "print(y)\n",
        "print(y[0] + y[0] + y[1] * y[1] * y[1])"
      ]
    },
    {
      "attachments": {},
      "cell_type": "markdown",
      "metadata": {
        "id": "OVzhl7ca8IUy"
      },
      "source": [
        "To create a $3 \\times 2$ matrix of variables named \"A\", type"
      ]
    },
    {
      "cell_type": "code",
      "execution_count": 6,
      "metadata": {
        "colab": {
          "base_uri": "https://localhost:8080/"
        },
        "id": "l0HAKoK88Lbb",
        "outputId": "e5979be8-8778-4910-d701-5eb8abb5cc46"
      },
      "outputs": [
        {
          "name": "stdout",
          "output_type": "stream",
          "text": [
            "[[Variable('A(0,0)', Continuous) Variable('A(0,1)', Continuous)]\n",
            " [Variable('A(1,0)', Continuous) Variable('A(1,1)', Continuous)]\n",
            " [Variable('A(2,0)', Continuous) Variable('A(2,1)', Continuous)]]\n"
          ]
        }
      ],
      "source": [
        "var_matrix = prog.NewContinuousVariables(3, 2, \"A\")\n",
        "print(var_matrix)"
      ]
    },
    {
      "attachments": {},
      "cell_type": "markdown",
      "metadata": {
        "id": "GMozdDRf8SEU"
      },
      "source": [
        "### Adding constraints\n",
        "There are many ways to impose constraints on the decision variables. This tutorial shows a few simple examples."
      ]
    },
    {
      "attachments": {},
      "cell_type": "markdown",
      "metadata": {
        "id": "_WbRhIhW8aOS"
      },
      "source": [
        "#### AddConstraint\n",
        "The simplest way to add a constraint is with `MathematicalProgram.AddConstraint()`."
      ]
    },
    {
      "cell_type": "code",
      "execution_count": 7,
      "metadata": {
        "colab": {
          "base_uri": "https://localhost:8080/"
        },
        "id": "GVtvdRgx8RVn",
        "outputId": "3ea90e04-cb7f-406e-d320-239e74d57d65"
      },
      "outputs": [
        {
          "data": {
            "text/plain": [
              "<pydrake.solvers.Binding[Constraint] at 0x120c81f70>"
            ]
          },
          "execution_count": 7,
          "metadata": {},
          "output_type": "execute_result"
        }
      ],
      "source": [
        "# Add the constraint x(0) * x(1) = 1 to prog\n",
        "prog.AddConstraint(x[0] * x[1] == 1)"
      ]
    },
    {
      "attachments": {},
      "cell_type": "markdown",
      "metadata": {
        "id": "sEnX2h_-8f9g"
      },
      "source": [
        "You can also add inequality constraints to `prog` such as"
      ]
    },
    {
      "cell_type": "code",
      "execution_count": 8,
      "metadata": {
        "colab": {
          "base_uri": "https://localhost:8080/"
        },
        "id": "05pB3ISJ8g4H",
        "outputId": "13175c26-d53a-43c9-cefa-7354e7c46a62"
      },
      "outputs": [
        {
          "data": {
            "text/plain": [
              "<pydrake.solvers.Binding[Constraint] at 0x120cf4570>"
            ]
          },
          "execution_count": 8,
          "metadata": {},
          "output_type": "execute_result"
        }
      ],
      "source": [
        "prog.AddConstraint(x[0] >= 0)\n",
        "prog.AddConstraint(x[0] - x[1] <= 0)"
      ]
    },
    {
      "attachments": {},
      "cell_type": "markdown",
      "metadata": {
        "id": "EGTZzAoP8jc0"
      },
      "source": []
    },
    {
      "attachments": {},
      "cell_type": "markdown",
      "metadata": {
        "id": "ssPquZ7K8jnC"
      },
      "source": [
        "`prog` automatically analyzes these symbolic inequality constraint expressions and determines they are all *linear* constraints on $x$."
      ]
    },
    {
      "attachments": {},
      "cell_type": "markdown",
      "metadata": {
        "id": "oHEXMqBv8rQ6"
      },
      "source": [
        "### Adding Cost functions\n",
        "In a complicated optimization problem, it is often convenient to write the total cost function $f(x)$ as a sum of individual cost functions\n",
        "\n",
        "$\\begin{aligned}\n",
        "f(x) = \\sum_i g_i(x)\n",
        "\\end{aligned}$"
      ]
    },
    {
      "attachments": {},
      "cell_type": "markdown",
      "metadata": {
        "id": "gAX83Mp08urU"
      },
      "source": [
        "#### AddCost method.\n",
        "The simplest way to add an individual cost function $g_i(x)$ to the total cost function $f(x)$ is with the `MathematicalProgram.AddCost()` method (as shown below)."
      ]
    },
    {
      "cell_type": "code",
      "execution_count": 9,
      "metadata": {
        "colab": {
          "base_uri": "https://localhost:8080/"
        },
        "id": "JoRRLXqi8nX8",
        "outputId": "331e2269-e395-48f7-b4e2-40a2c7e91ed2"
      },
      "outputs": [
        {
          "data": {
            "text/plain": [
              "<pydrake.solvers.Binding[Cost] at 0x120d292f0>"
            ]
          },
          "execution_count": 9,
          "metadata": {},
          "output_type": "execute_result"
        }
      ],
      "source": [
        "# Add a cost x(0)**2 + 3 to the total cost. Since prog doesn't have a cost before, now the total cost is x(0)**2 + 3\n",
        "prog.AddCost(x[0] ** 2 + 3)"
      ]
    },
    {
      "cell_type": "code",
      "execution_count": null,
      "metadata": {
        "id": "FhDoRPeR8yLj"
      },
      "outputs": [],
      "source": []
    },
    {
      "attachments": {},
      "cell_type": "markdown",
      "metadata": {
        "id": "Pf_c2SkJ8148"
      },
      "source": [
        "To add another individual cost function $x(0) + x(1)$ to the total cost function $f(x)$, simply call `AddCost()` again as follows"
      ]
    },
    {
      "cell_type": "code",
      "execution_count": 10,
      "metadata": {
        "colab": {
          "base_uri": "https://localhost:8080/"
        },
        "id": "XXmIOaGe82_X",
        "outputId": "bdd34dfc-3e09-42c9-d175-63258be703a8"
      },
      "outputs": [
        {
          "data": {
            "text/plain": [
              "<pydrake.solvers.Binding[Cost] at 0x120d455f0>"
            ]
          },
          "execution_count": 10,
          "metadata": {},
          "output_type": "execute_result"
        }
      ],
      "source": [
        "prog.AddCost(x[0] + x[1])"
      ]
    },
    {
      "attachments": {},
      "cell_type": "markdown",
      "metadata": {
        "id": "EGrG_iEx86uh"
      },
      "source": [
        "now the total cost function becomes $x(0)^2 + x(0) + x(1) + 3$.\n",
        "\n",
        "`prog` can analyze each of these individual cost functions and determine that $x(0) ^ 2 + 3$  is a convex quadratic function, and $x(0) + x(1)$ is a linear function of $x$."
      ]
    },
    {
      "cell_type": "code",
      "execution_count": 11,
      "metadata": {
        "colab": {
          "base_uri": "https://localhost:8080/"
        },
        "id": "dYxRqjyq8-DS",
        "outputId": "4a8cf91b-6f39-49ea-a008-0684cdadb2b0"
      },
      "outputs": [
        {
          "data": {
            "text/plain": [
              "[<pydrake.solvers.Binding[Cost] at 0x120be72f0>,\n",
              " <pydrake.solvers.Binding[Cost] at 0x120d69670>]"
            ]
          },
          "execution_count": 11,
          "metadata": {},
          "output_type": "execute_result"
        }
      ],
      "source": [
        "prog.GetAllCosts()"
      ]
    },
    {
      "attachments": {},
      "cell_type": "markdown",
      "metadata": {
        "id": "G9fToYz79QCw"
      },
      "source": [
        "### Solve the optimization problem\n",
        "Once all the decision variables/constraints/costs are added to `prog`, we are ready to solve the optimization problem.\n",
        "\n"
      ]
    },
    {
      "attachments": {},
      "cell_type": "markdown",
      "metadata": {
        "id": "t9tybNsd9aAv"
      },
      "source": [
        "#### Automatically choosing a solver\n",
        "The simplest way to solve the optimization problem is to call `Solve()` function. Drake's MathematicalProgram analyzes the type of the constraints/costs, and then calls an appropriate solver for your problem. The result of calling `Solve()` is stored inside the return argument. Here is a code snippet"
      ]
    },
    {
      "cell_type": "code",
      "execution_count": 12,
      "metadata": {
        "colab": {
          "base_uri": "https://localhost:8080/"
        },
        "id": "qfn9HSjs9RI7",
        "outputId": "818c9195-894d-4b05-efaa-c020078c79e6"
      },
      "outputs": [
        {
          "name": "stdout",
          "output_type": "stream",
          "text": [
            "Success?  True\n",
            "x* =  [0.5 0.5]\n",
            "optimal cost =  0.5000000000000002\n",
            "solver is:  OSQP\n"
          ]
        }
      ],
      "source": [
        "\"\"\"\n",
        "Solves a simple optimization problem\n",
        "       min x(0)^2 + x(1)^2\n",
        "subject to x(0) + x(1) = 1\n",
        "           x(0) <= x(1)\n",
        "\"\"\"\n",
        "from pydrake.solvers import Solve\n",
        "# Set up the optimization problem.\n",
        "prog = MathematicalProgram()\n",
        "x = prog.NewContinuousVariables(2)\n",
        "prog.AddConstraint(x[0] + x[1] == 1)\n",
        "prog.AddConstraint(x[0] <= x[1])\n",
        "prog.AddCost(x[0] **2 + x[1] ** 2)\n",
        "\n",
        "# Now solve the optimization problem.\n",
        "result = Solve(prog)\n",
        "\n",
        "#print out the result.\n",
        "print(\"Success? \", result.is_success())\n",
        "# Print the solution to the decision variables.\n",
        "print('x* = ', result.GetSolution(x))\n",
        "# Print the optimal cost.\n",
        "print('optimal cost = ', result.get_optimal_cost())\n",
        "# Print the name of the solver that was called.\n",
        "print('solver is: ', result.get_solver_id().name())"
      ]
    },
    {
      "attachments": {},
      "cell_type": "markdown",
      "metadata": {
        "id": "kDqU91kn9xRw"
      },
      "source": [
        "Notice that we can then retrieve optimization result from the return argument of `Solve`. For example, the solution $x^*$ is retrieved from `result.GetSolution()`, and the optimal cost from `result.get_optimal_cost()`.\n",
        "\n",
        "Some optimization solution is infeasible (doesn't have a solution). For example in the following code example, `result.get_solution_result()` will not report `kSolutionFound`."
      ]
    },
    {
      "cell_type": "code",
      "execution_count": 13,
      "metadata": {
        "colab": {
          "base_uri": "https://localhost:8080/"
        },
        "id": "rmojxCMq9x6m",
        "outputId": "4bd98a03-f9bb-4a5d-9e93-66efe61b0ca7"
      },
      "outputs": [
        {
          "name": "stdout",
          "output_type": "stream",
          "text": [
            "Success?  False\n",
            "SolutionResult.kInfeasibleConstraints\n"
          ]
        }
      ],
      "source": [
        "\"\"\"\n",
        "An infeasible optimization problem.\n",
        "\"\"\"\n",
        "prog = MathematicalProgram()\n",
        "x = prog.NewContinuousVariables(1)[0] #turns to a scalar variable\n",
        "y = prog.NewContinuousVariables(1)[0]\n",
        "prog.AddConstraint(x + y >= 1)\n",
        "prog.AddConstraint(x + y <= 0)\n",
        "prog.AddCost(x)\n",
        "\n",
        "result = Solve(prog)\n",
        "print(\"Success? \", result.is_success())\n",
        "print(result.get_solution_result())"
      ]
    },
    {
      "attachments": {},
      "cell_type": "markdown",
      "metadata": {
        "id": "72GXLx2LHidt"
      },
      "source": [
        "**Exercise 1**: Solve the optimization problem 1 given in class using the functions above.\n",
        "\n",
        "\n",
        "\n"
      ]
    },
    {
      "cell_type": "code",
      "execution_count": 27,
      "metadata": {},
      "outputs": [
        {
          "name": "stdout",
          "output_type": "stream",
          "text": [
            "Optimization Solution is: [ 0.5 -0. ]\n"
          ]
        }
      ],
      "source": [
        "from pydrake.solvers import MathematicalProgram\n",
        "import numpy as np\n",
        "import matplotlib.pyplot as plt\n",
        "\n",
        "#Define/init Mathematical optimization solver\n",
        "prog = MathematicalProgram()\n",
        "\n",
        "# Set up the optimization problem.\n",
        "x = prog.NewContinuousVariables(2)\n",
        "prog.AddConstraint(2*x[0] + x[1] == 1)\n",
        "prog.AddConstraint(x[0] >= 0)\n",
        "prog.AddConstraint(x[1] >= 0)\n",
        "prog.AddCost(100*(x[1]**2 - x[0]**2) + (1 - x[0])**2)\n",
        "#Note: could be a argmax not argmin by adding a (-) infront of cost function\n",
        "\n",
        "result = Solve(prog)\n",
        "\n",
        "print(\"Optimization Solution is:\",result.GetSolution(x))\n"
      ]
    },
    {
      "attachments": {},
      "cell_type": "markdown",
      "metadata": {
        "id": "CWKcg18_-9F7"
      },
      "source": [
        "#### Manually choosing a solver\n",
        "\n",
        "If you want to choose a solver yourself, rather than Drake choosing one for you, you could instantiate a solver explicitly, and call its `Solve` function. There are two approaches to instantiate a solver. For example, if I want to solve a problem using the open-source solver [IPOPT](https://github.com/coin-or/Ipopt), I can instantiate the solver using either of the two approaches:\n",
        "1. The simplest approach is to call `solver = IpoptSolver()`\n",
        "2. The second approach is to construct a solver with a given solver ID as `solver = MakeSolver(IpoptSolver().solver_id())`"
      ]
    },
    {
      "cell_type": "code",
      "execution_count": 28,
      "metadata": {
        "colab": {
          "base_uri": "https://localhost:8080/"
        },
        "id": "Ab5RcEA190ov",
        "outputId": "a74194c3-7a8d-4c08-e1f8-f49800c9534e"
      },
      "outputs": [
        {
          "name": "stdout",
          "output_type": "stream",
          "text": [
            "SolutionResult.kSolutionFound\n",
            "x* =  [-9.98999996e-09  1.00000000e+00]\n",
            "Solver is  IPOPT\n",
            "Ipopt solver status:  0 , meaning  Success\n"
          ]
        }
      ],
      "source": [
        "\"\"\"\n",
        "Demo on manually choosing a solver\n",
        "Solves the problem\n",
        "min x(0)\n",
        "s.t x(0) + x(1) = 1\n",
        "    0 <= x(1) <= 1\n",
        "\"\"\"\n",
        "from pydrake.solvers import IpoptSolver\n",
        "prog = MathematicalProgram()\n",
        "x = prog.NewContinuousVariables(2)\n",
        "prog.AddConstraint(x[0] + x[1] == 1)\n",
        "prog.AddConstraint(0 <= x[1])\n",
        "prog.AddConstraint(x[1] <= 1)\n",
        "prog.AddCost(x[0])\n",
        "\n",
        "# Choose IPOPT as the solver.\n",
        "# First instantiate an IPOPT solver.\n",
        "\n",
        "solver = IpoptSolver()\n",
        "# The initial guess is [1, 1]. The third argument is the options for Ipopt solver,\n",
        "# and we set no solver options.\n",
        "result = solver.Solve(prog, np.array([1, 1]), None)\n",
        "\n",
        "print(result.get_solution_result())\n",
        "print(\"x* = \", result.GetSolution(x))\n",
        "print(\"Solver is \", result.get_solver_id().name())\n",
        "print(\"Ipopt solver status: \", result.get_solver_details().status,\n",
        "      \", meaning \", result.get_solver_details().ConvertStatusToString())\n"
      ]
    },
    {
      "attachments": {},
      "cell_type": "markdown",
      "metadata": {
        "id": "xTwSx9X9Ay6z"
      },
      "source": [
        "Note that `solver.Solve()` expects three input arguments, the optimization program `prog`, the initial guess of the decision variable values (`[1, 1]` in this case), and an optional setting for the solver (`None` in this case, we use the default IPOPT setting). If you don't have an initial guess, you could call `solver.Solve(prog)`. Drake will choose a default initial guess (a 0-valued vector), but this initial guess might be a bad starting point for optimization. Note from the following example code, with the default initial guess, the solver cannot find a solution, even though a solution exists (and could be found with initial guess [1, 1]).\n"
      ]
    },
    {
      "cell_type": "code",
      "execution_count": 29,
      "metadata": {
        "colab": {
          "base_uri": "https://localhost:8080/"
        },
        "id": "Q22bz8KTA4VL",
        "outputId": "048f03f6-289e-4153-adf3-0e9b47e6aa3f"
      },
      "outputs": [
        {
          "name": "stdout",
          "output_type": "stream",
          "text": [
            "SolutionResult.kSolutionFound\n",
            "x* =  [-9.98999994e-09  1.00000000e+00]\n"
          ]
        }
      ],
      "source": [
        "from pydrake.solvers import MakeSolver\n",
        "solver = MakeSolver(IpoptSolver().solver_id())\n",
        "result = solver.Solve(prog)\n",
        "print(result.get_solution_result())\n",
        "print(\"x* = \", result.GetSolution(x))"
      ]
    },
    {
      "attachments": {},
      "cell_type": "markdown",
      "metadata": {
        "id": "VyAZK7IHA_CI"
      },
      "source": [
        "### Using an initial guess\n",
        "Some optimization problems, such as nonlinear optimization, require an initial guess. Other types of problems, such as quadratic programming, mixed-integer optimization, etc,  can be solved faster if a good initial guess is provided. The user could provide an initial guess as an input argument in `Solve` function. If no initial guess is provided, Drake will use a zero-valued vector as the initial guess.\n",
        "\n",
        "In the example below, we show that an initial guess could affect the result of the problem. Without an user-provided initial guess, the solver might be unable to find the solution."
      ]
    },
    {
      "cell_type": "code",
      "execution_count": 30,
      "metadata": {
        "colab": {
          "base_uri": "https://localhost:8080/"
        },
        "id": "uzalz98oA7d2",
        "outputId": "7a54921b-116f-4f86-bd1e-034a46aacc1c"
      },
      "outputs": [
        {
          "name": "stdout",
          "output_type": "stream",
          "text": [
            "Without a good initial guess, the result is False\n",
            "solution [0. 0.]\n",
            "With a good initial guess, the result is True\n"
          ]
        }
      ],
      "source": [
        "from pydrake.solvers import IpoptSolver\n",
        "prog = MathematicalProgram()\n",
        "x = prog.NewContinuousVariables(2)\n",
        "prog.AddConstraint(x[0]**2 + x[1]**2 == 100.)\n",
        "prog.AddCost(x[0]**2-x[1]**2)\n",
        "solver = IpoptSolver()\n",
        "# The user doesn't provide an initial guess.\n",
        "result = solver.Solve(prog, None, None)\n",
        "print(f\"Without a good initial guess, the result is {result.is_success()}\")\n",
        "print(f\"solution {result.GetSolution(x)}\")\n",
        "# Pass an initial guess\n",
        "result = solver.Solve(prog, [-5., 0.], None)\n",
        "print(f\"With a good initial guess, the result is {result.is_success()}\")"
      ]
    },
    {
      "attachments": {},
      "cell_type": "markdown",
      "metadata": {
        "id": "c1Brv-9MBrIo"
      },
      "source": [
        "For more details on setting the initial guess, the user could refer to [Nonlinear program](./nonlinear_program.ipynb) section `Setting the initial guess`.\n",
        "\n",
        "\n",
        "### Add callback\n",
        "Some solvers support adding a callback function in each iteration. One usage of the callback is to visualize the solver progress in the current iteration. `MathematicalProgram` supports this usage through the function `AddVisualizationCallback`, although the usage is not limited to just visualization, the callback function can do anything. Here is an example"
      ]
    },
    {
      "cell_type": "code",
      "execution_count": 17,
      "metadata": {
        "colab": {
          "base_uri": "https://localhost:8080/",
          "height": 610
        },
        "id": "ATvVCr4NBsVy",
        "outputId": "7b8b2bd4-5ddb-42d8-cec3-9a7fcd15b095"
      },
      "outputs": [
        {
          "name": "stdout",
          "output_type": "stream",
          "text": [
            "[4. 5.]\n",
            "[4.00000274 4.99999726]\n",
            "[3.0158392 4.       ]\n",
            "[2.66647998 3.44760983]\n",
            "[3.40409323 2.42154352]\n",
            "[3.06184614 2.89763069]\n",
            "[2.97838743 3.01838567]\n",
            "[2.99959339 3.00027865]\n",
            "[3.00000077 2.99999919]\n",
            "[3.00000077 2.99999919]\n"
          ]
        },
        {
          "data": {
            "image/png": "[encoded data removed]",
            "text/plain": [
              "<Figure size 640x480 with 1 Axes>"
            ]
          },
          "metadata": {},
          "output_type": "display_data"
        }
      ],
      "source": [
        "# Visualize the solver progress in each iteration through a callback\n",
        "# Find the closest point on a curve to a desired point.\n",
        "\n",
        "fig = plt.figure()\n",
        "curve_x = np.linspace(1, 10, 100)\n",
        "ax = plt.gca()\n",
        "ax.plot(curve_x, 9./curve_x)\n",
        "ax.plot(-curve_x, -9./curve_x)\n",
        "ax.plot(0, 0, 'o')\n",
        "x_init = [4., 5.]\n",
        "ax.plot(x_init[0], x_init[1], 'x', color='red')\n",
        "\n",
        "def update(x):\n",
        "    print(x)\n",
        "    ax.plot(x[0], x[1], 'x', color='red')\n",
        "\n",
        "prog = MathematicalProgram()\n",
        "x = prog.NewContinuousVariables(2)\n",
        "prog.AddConstraint(x[0] * x[1] == 9)\n",
        "prog.AddCost(x[0]**2 + x[1]**2)\n",
        "prog.AddVisualizationCallback(update, x)\n",
        "result = Solve(prog, x_init)"
      ]
    },
    {
      "attachments": {},
      "cell_type": "markdown",
      "metadata": {
        "id": "V9aDEy5tDdC1"
      },
      "source": [
        "**Exercise 2**\n",
        "Solve the optimization problem 2 given in class using the functions above.\n"
      ]
    },
    {
      "cell_type": "code",
      "execution_count": 47,
      "metadata": {},
      "outputs": [
        {
          "name": "stdout",
          "output_type": "stream",
          "text": [
            "SolutionResult.kSolutionFound\n",
            "100.00000000000021\n"
          ]
        },
        {
          "ename": "ValueError",
          "evalue": "GetVariableValue: x(0) is not captured by the variable_index map.",
          "output_type": "error",
          "traceback": [
            "\u001b[0;31m---------------------------------------------------------------------------\u001b[0m",
            "\u001b[0;31mValueError\u001b[0m                                Traceback (most recent call last)",
            "Cell \u001b[0;32mIn[47], line 28\u001b[0m\n\u001b[1;32m     26\u001b[0m \u001b[39mprint\u001b[39m(result\u001b[39m.\u001b[39mget_solution_result())\n\u001b[1;32m     27\u001b[0m \u001b[39mprint\u001b[39m(result\u001b[39m.\u001b[39mget_optimal_cost())\n\u001b[0;32m---> 28\u001b[0m \u001b[39mprint\u001b[39m(result\u001b[39m.\u001b[39;49mGetSolution(x))\n",
            "\u001b[0;31mValueError\u001b[0m: GetVariableValue: x(0) is not captured by the variable_index map."
          ]
        }
      ],
      "source": [
        "from pydrake.solvers import MathematicalProgram\n",
        "import numpy as np\n",
        "import matplotlib.pyplot as plt\n",
        "\n",
        "g = 9.81\n",
        "\n",
        "prog = MathematicalProgram()\n",
        "x = prog.NewContinuousVariables(3)\n",
        "v_x = x[0]\n",
        "v_y = x[1]\n",
        "t = x[2]\n",
        "x_dist = v_x*t\n",
        "y_dist = v_y*t - 0.5*g*t**2\n",
        "\n",
        "prog.AddConstraint(x[2] >= 0)\n",
        "prog.AddConstraint(x[0] <= 10)\n",
        "prog.AddConstraint(x[0] >= 0)\n",
        "prog.AddConstraint(x[1] <= 10)\n",
        "prog.AddConstraint(x[1] >= 0)\n",
        "prog.AddConstraint(t >= 0.01)\n",
        "prog.AddConstraint(x_dist == 5)\n",
        "prog.AddConstraint(y_dist == 3)\n",
        "prog.AddCost(x[0]**2 + x[1]**2)     #min energy\n",
        "# prog.AddCost(t)                     #min time\n",
        "# prog.AddCost(-y_dist)               #max height\n",
        "# prog.AddCost(-x_dist)               #max distance\n",
        "\n",
        "print(result.get_solution_result())\n",
        "print(result.get_optimal_cost())\n",
        "print(result.GetSolution(x))\n"
      ]
    },
    {
      "attachments": {},
      "cell_type": "markdown",
      "metadata": {
        "id": "6ytm6JSTD5Mu"
      },
      "source": [
        "## **Trajectory optimization**\n",
        "\n",
        "### Shooting\n",
        "### Transcription\n",
        "### Collocation\n",
        "\n",
        "\n",
        "**Exercise 3**: Solve the optimization problem 3 given in class using the following code\n"
      ]
    },
    {
      "cell_type": "code",
      "execution_count": 48,
      "metadata": {
        "colab": {
          "base_uri": "https://localhost:8080/",
          "height": 386
        },
        "id": "o_EV30C7H8nY",
        "outputId": "faf19432-8b0c-414f-f683-4571664a5df9"
      },
      "outputs": [
        {
          "data": {
            "image/png": "[encoded data removed]",
            "text/plain": [
              "<Figure size 640x480 with 2 Axes>"
            ]
          },
          "metadata": {},
          "output_type": "display_data"
        }
      ],
      "source": [
        "# x_ddot = a, J = a**2, x_dot = v, v_dot = a\n",
        "# -1 <= a <= 1\n",
        "# x_0 = [-2 0]^T\n",
        "# X = [P V]^T\n",
        "# x_f = [0 0]\n",
        "\n",
        "from pydrake.all import (\n",
        "    eq,\n",
        ")\n",
        "\n",
        "def double_integrator():\n",
        "    # Discrete-time approximation of the double integrator.\n",
        "    dt = 0.01\n",
        "    A = np.eye(2) + dt * np.mat(\"0 1; 0 0\")\n",
        "    B = dt * np.mat(\"0; 1\")\n",
        "\n",
        "    def solve_for_fixed_horizon(N):\n",
        "        prog = MathematicalProgram()\n",
        "\n",
        "        # Create decision variables\n",
        "        u = prog.NewContinuousVariables(1, N - 1, \"u\")\n",
        "        x = prog.NewContinuousVariables(2, N, \"x\")\n",
        "\n",
        "        # Add constraints\n",
        "        x0 = [-2, 0]\n",
        "        prog.AddBoundingBoxConstraint(x0, x0, x[:, 0])\n",
        "        for n in range(N - 1):\n",
        "            prog.AddConstraint(\n",
        "                eq(x[:, n + 1], A.dot(x[:, n]) + B.dot(u[:, n]))\n",
        "            )\n",
        "            prog.AddBoundingBoxConstraint(-1, 1, u[:, n])\n",
        "            #prog.AddCost(u[0, n] ** 2)\n",
        "            prog.AddCost(N)\n",
        "        xf = [0, 0]\n",
        "        prog.AddBoundingBoxConstraint(xf, xf, x[:, N - 1])\n",
        "\n",
        "        result = Solve(prog)\n",
        "        return result, prog, x, u\n",
        "\n",
        "    # TODO(russt): Do a line search here (I've done it manually).\n",
        "    N = 300\n",
        "    # True solution: min time(q=-2, qdot=0) = 2√2 = 2.828 seconds.\n",
        "    result, prog, x, u = solve_for_fixed_horizon(N)\n",
        "    assert result.is_success(), \"Optimization failed\"\n",
        "\n",
        "    u_sol = result.GetSolution(u)\n",
        "    x_sol = result.GetSolution(x)\n",
        "\n",
        "    fig, ax = plt.subplots(2, 1)\n",
        "    ax[0].plot(x_sol[0, :], x_sol[1, :], \"-\")\n",
        "    ax[0].set_xlabel(\"q\")\n",
        "    ax[0].set_ylabel(\"qdot\")\n",
        "\n",
        "    ax[1].plot(np.arange(0, N - 1) * dt, u_sol.T, \"-\")\n",
        "    ax[1].set_xlabel(\"t\")\n",
        "    ax[1].set_ylabel(\"u\")\n",
        "\n",
        "\n",
        "double_integrator()"
      ]
    }
  ],
  "metadata": {
    "colab": {
      "provenance": [],
      "toc_visible": true
    },
    "kernelspec": {
      "display_name": "Python 3",
      "name": "python3"
    },
    "language_info": {
      "codemirror_mode": {
        "name": "ipython",
        "version": 3
      },
      "file_extension": ".py",
      "mimetype": "text/x-python",
      "name": "python",
      "nbconvert_exporter": "python",
      "pygments_lexer": "ipython3",
      "version": "3.10.7"
    }
  },
  "nbformat": 4,
  "nbformat_minor": 0
}
