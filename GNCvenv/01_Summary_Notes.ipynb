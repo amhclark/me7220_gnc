{
 "cells": [
  {
   "attachments": {},
   "cell_type": "markdown",
   "metadata": {},
   "source": [
    "# Mathematical Preliminaries\n",
    "\n",
    "## 2D and 3D Vectors\n",
    "\n",
    "* Scalar multiplication of a vector, scales the magnitude of the vector, where \n",
    "\\begin{equation}\n",
    "\\begin{array}{c}\n",
    "||s\\mathbf{p}||=s||\\mathbf{p}|| \\\\\n",
    "\\vec{s\\mathbf{p}}=\\vec{\\mathbf{p}}\n",
    "\\end{array}\n",
    "\\end{equation}.\n",
    "* Addition of vectors always follow the linking of subscripts, where:\n",
    "\\begin{equation}\n",
    "\\mathbf{p}_{ac}=\\mathbf{p}_{ab}+\\mathbf{p}_{bc}\n",
    "\\end{equation}.\n",
    "\n",
    "* The negative of a vector can be defined as follows:\n",
    "\\begin{equation}\n",
    "^w\\mathbf{p}_{wb}=-^w\\mathbf{p}_{bw}\n",
    "\\end{equation}.\n",
    "\n",
    "* The projected length of vector $\\mathbf{a}$ along the direction of vector $\\mathbf{b}$ is given by the dot product $\\mathbf{a}^T\\vec{\\mathbf{b}}$. The dot product is defined as follows where $\\theta$ is the angle between the two vectors.\n",
    "\\begin{equation}\n",
    "\\mathbf{a}\\cdot\\mathbf{b}=\\mathbf{a}^T\\mathbf{b}=||\\mathbf{a}|||\\mathbf{b}||cos\\theta\n",
    "\\end{equation}.\n",
    "\n",
    "* The cross product between the same two vectors produces a vector perpendicular to $\\mathbf{a}$ and $\\mathbf{b}$ having a length of $||\\mathbf{a}||||\\mathbf{b}||sin\\theta$. The cross product is defined as follows where $\\vec{\\mathbf{n}}$ is the normal vector direction $\\vec{\\mathbf{a}}\\times \\vec{\\mathbf{b}}$.\n",
    "\\begin{equation}\n",
    "\\mathbf{a}\\times \\mathbf{b}=||\\mathbf{a}|||\\mathbf{b}||sin\\theta~ \\vec{\\mathbf{n}}\n",
    "\\end{equation},"
   ]
  },
  {
   "attachments": {},
   "cell_type": "markdown",
   "metadata": {},
   "source": [
    "## Frames of Reference - Rotation Matrices\n",
    "\n",
    "* Three perpendicular unit vectors $\\vec{\\mathbf{x}},\\vec{\\mathbf{y}},\\vec{\\mathbf{z}}$ arranged in a right handed coordinate system, i.e.,  $\\vec{\\mathbf{x}}\\times\\vec{\\mathbf{y}}=\\vec{\\mathbf{z}}$ defines a coordinate frame.\n",
    "\n",
    "* The pose between two reference frames $\\{W\\}$ and $\\{B\\}$ can be represented using a position vector $^w\\mathbf{p}_{wb}\\in R^3$ and a rotation matrix $^w\\mathbf{R}_b$.\n",
    "\n",
    "* The vector $^w\\mathbf{p}_{wb}$ should be read as the location of $\\{B\\}$ relative to $\\{W\\}$ expressed in frame $\\{W\\}$. The vector represents the location of the origin of $\\{B\\}$  relative to origin of $\\{W\\}$ when measured along the principal axis of $\\{W\\}$ ."
   ]
  },
  {
   "attachments": {},
   "cell_type": "markdown",
   "metadata": {},
   "source": [
    "## Properties of Rotation Matrices\n",
    "\n",
    "* The rotation matrix $^w\\mathbf{R}_b$ allows to rotate vectors from frame $\\{B\\}$  to frame $\\{W\\}$. i.e. given a vector $\\textbf{p}_{wb}^b$  expressed in frame $\\{B\\}$, we can find the vector $\\mathbf{p}_{wb}^w$ as follows:\n",
    "\\begin{equation}\n",
    "^w\\mathbf{p}_{wb}= ~^w\\mathbf{R}_b ~^b\\mathbf{p}_{wb}\n",
    "\\end{equation}\n",
    "\n",
    "* Matrix inverse of a rotation matrix ${\\mathbf{R}_o^w}^{-1}$ is equal to $\\mathbf{R}_w^o$ (orthonormal) ,i.e., denotes the rotation of a follower frame $\\{W\\}$ w.r.t. a base frame $\\{O\\}$.\n",
    "\\begin{equation}\n",
    "{\\mathbf{R}_o^w}^T={\\mathbf{R}_o^w}^{-1}\n",
    "\\end{equation}\n",
    "\n",
    "* Rotation matrices are orthogonal and have a determitant of 1. Rotation matrices belong to the special orthogonal group of 3 dimensions SO(3)\n",
    "\n",
    "* Right-hand rule can be used to find the positive direction of rotation. i.e., CCW rotation about an axis is positive."
   ]
  },
  {
   "attachments": {},
   "cell_type": "markdown",
   "metadata": {},
   "source": [
    "## Using Python numpy for Vector Math"
   ]
  },
  {
   "cell_type": "code",
   "execution_count": 3,
   "metadata": {},
   "outputs": [
    {
     "name": "stdout",
     "output_type": "stream",
     "text": [
      "p_wb_w= [2 1 0]\n",
      "R_w_b= [[0 0 1]\n",
      " [0 1 0]\n",
      " [1 0 0]]\n"
     ]
    }
   ],
   "source": [
    "import numpy as np\n",
    "\n",
    "# vector addition methods\n",
    "p_wa_w = np.array([1,0,0])\n",
    "p_ab_w = np.array([1,1,0])\n",
    "p_wb_w = p_wa_w + p_ab_w\n",
    "print('p_wb_w=',p_wb_w)\n",
    "\n",
    "# how to define a matrix in numpy\n",
    "R_b_w = np.array([[0,0,1],[0,1,0],[1,0,0]])\n",
    "print('R_w_b=',R_b_w)\n",
    "\n",
    "# @ is used for matrix multiplication\n",
    "p_wb_b = R_b_w @ p_wb_w\n",
    "print('p_wb_b=',p_wb_b)\n"
   ]
  },
  {
   "attachments": {},
   "cell_type": "markdown",
   "metadata": {},
   "source": [
    "## Using Python sympy for Symbolic Math"
   ]
  },
  {
   "cell_type": "code",
   "execution_count": 5,
   "metadata": {},
   "outputs": [
    {
     "data": {
      "text/latex": [
       "$\\displaystyle \\left[\\begin{matrix}\\frac{1}{2} & - \\frac{\\sqrt{3}}{2} & 0\\\\\\frac{\\sqrt{3}}{2} & \\frac{1}{2} & 0\\\\0 & 0 & 1\\end{matrix}\\right]$"
      ],
      "text/plain": [
       "Matrix([\n",
       "[      1/2, -sqrt(3)/2, 0],\n",
       "[sqrt(3)/2,        1/2, 0],\n",
       "[        0,          0, 1]])"
      ]
     },
     "execution_count": 5,
     "metadata": {},
     "output_type": "execute_result"
    }
   ],
   "source": [
    "import sympy as sy\n",
    "import numpy as np\n",
    "\n",
    "def rotsym(a,b):\n",
    "    c = sy.cos(b)\n",
    "    s = sy.sin(b)\n",
    "    if a == \"z\":\n",
    "        R = sy.Matrix([[c,-s,0],\n",
    "        [s,c,0],\n",
    "        [0,0,1]])\n",
    "    if a == \"x\":\n",
    "        R = sy.Matrix([[1,0,0],\n",
    "        [s,c,0],\n",
    "        [0,0,1]])\n",
    "    if a == \"y\":\n",
    "        R = sy.Matrix([[c,0,s],\n",
    "        [0,1,0],\n",
    "        [-s,0,c]])\n",
    "    return(R)\n",
    "\n",
    "R = rotsym(\"z\",sy.pi/3)\n",
    "R"
   ]
  },
  {
   "attachments": {},
   "cell_type": "markdown",
   "metadata": {},
   "source": [
    "## Rotation Representation: Euler Angles\n",
    "\n",
    "* Uses roll, pitch and yaw with respect to reference frame $\\{W\\}$ to represent 3D rotation\n",
    "\n",
    "https://compsci290-s2016.github.io/CoursePage/Materials/EulerAnglesViz/"
   ]
  },
  {
   "attachments": {},
   "cell_type": "markdown",
   "metadata": {},
   "source": [
    "## Key Vector Matrix Identities\n",
    "\n",
    "* Expressing vector in a different frame\n",
    "\\begin{equation}\n",
    "\\begin{array}{c l}\n",
    "\\mathbf{p}^a_{ab} &= ~^a\\mathbf{R}_b\\mathbf{p}^b_{ab}\\\\\n",
    "\\end{array}\n",
    "\\end{equation}\n",
    "\n",
    "* Vector Addition\n",
    "\\begin{equation}\n",
    "\\begin{array}{c l}\n",
    "\\mathbf{p}^a_{ac} &=\\mathbf{p}^a_{ab}+\\mathbf{p}^a_{bc}\\\\\n",
    "&=\\mathbf{p}^a_{ab}+\\mathbf{R}^a_b\\mathbf{p}^b_{bc}\\\\\n",
    "\\end{array}\n",
    "\\end{equation}\n",
    "\n",
    "* Vector Subtraction\n",
    "\\begin{equation}\n",
    "\\begin{array}{c l}\n",
    "\\mathbf{p}^a_{ab} &= - \\mathbf{p}^a_{ba} = -\\mathbf{R}^a_b\\mathbf{p}^b_{ba}\\\\\n",
    "\\end{array}\n",
    "\\end{equation}\n",
    "\n",
    "* Skew Symmetric Representation\n",
    "\\begin{equation}\n",
    "\\boldsymbol{\\omega} \\times \\mathbf{r} = [\\boldsymbol{\\omega}]_{\\times}\\mathbf{r} = -[\\mathbf{r}]_{\\times}\\boldsymbol{\\omega} \n",
    "\\end{equation}\n",
    "\n",
    "* Skew Symmetric Transpose\n",
    "\\begin{equation}\n",
    "[\\boldsymbol{\\omega}_{wb}^w]_{\\times}^T  = -[\\boldsymbol{\\omega}_{wb}^w]_{\\times} = [\\boldsymbol{\\omega}_{bw}^w]_{\\times}\n",
    "\\end{equation}\n",
    "\n",
    "* Rotation Kinematics\n",
    "\\begin{equation}\n",
    "\\dot{\\mathbf{R}_b^w} = ~\\mathbf{R}_b^w[\\boldsymbol{\\omega}_{wb}^b]_{\\times} \n",
    "\\end{equation}\n",
    "\n",
    "* Expressing Angular Velocity Skew Matrix in a Different Frame\n",
    "\\begin{equation}\n",
    "[\\boldsymbol{\\omega}_{wb}^w]_{\\times} =[\\mathbf{R}_b^w~\\boldsymbol{\\omega}_{wb}^b]_{\\times} = \\mathbf{R}^w_b[\\boldsymbol{\\omega}_{wb}^b]_{\\times}{\\mathbf{R}^w_b}^T \n",
    "\\end{equation}\n",
    "\n",
    "* Matrix Inversion/Transposse Lemma\n",
    "\\begin{equation}\n",
    "(\\mathbf{A}\\mathbf{B})^T=\\mathbf{B}^T\\mathbf{A}^T\n",
    "\\end{equation}\n",
    "\n",
    "* Differentiation of a Vector Matrix Product\n",
    "\\begin{equation}\n",
    "\\frac{d}{dt}(\\mathbf{A}\\mathbf{b})=\\dot{\\mathbf{A}}\\mathbf{b}+\\mathbf{A}\\dot{\\mathbf{b}}\n",
    "\\end{equation}\n",
    "\n",
    "* Differentiation of a Vector Expressed in a Rotating Frame of Reference\n",
    "\\begin{equation}\n",
    "\\frac{d}{dt}(\\mathbf{v}^b)=\\frac{d}{dt}(\\mathbf{R}^T\\mathbf{v}^w)=\\dot{\\mathbf{R}}^T\\mathbf{v}^w+\\mathbf{R}^T\\dot{\\mathbf{v}}^w \n",
    "\\end{equation}"
   ]
  },
  {
   "attachments": {},
   "cell_type": "markdown",
   "metadata": {},
   "source": [
    "## Rotation Representation: Quaternions\n",
    "\n",
    "* Unit quaternion parameterization uses a  4 dimensional unit vector to represent rotations with the desirable property of not producing singular results at gimbal lock configurations. \n",
    "\n",
    "* Quaternions still have an undesirable property termed double wrapping i.e., there are two quaternions that can represent the same unique rotation in SO3. (can be avoided in practice by forcing the first element of the quaternion to be always positive. Thereby forcing a one to one mapping using unit quaternions)\n",
    "\n",
    "* `Axis angle` parameterization represents any arbitary 3D rotation as a rotation about a 3D unit vector $\\vec{\\mathbf{a}}$ with an angle $\\phi$.  \n",
    "\n",
    "* `Rotation vector` parameterization represents the axis and the angle as a single vector as follows:\n",
    "\\begin{equation}\n",
    "\\boldsymbol{\\theta}=\\vec{\\mathbf{a}}.\\phi\n",
    "\\end{equation}. "
   ]
  },
  {
   "attachments": {},
   "cell_type": "markdown",
   "metadata": {},
   "source": [
    "# Navigation Frames\n",
    "\n",
    "## Earth Center Earth Fixed Frame (ECEF)\n",
    "\n",
    "* ECEF is fixed at center of earth and rotates with the earth\n",
    "\n",
    "* Locations on earth in ECEF frame of reference can use rectangular or geodetic coordinates\n",
    "\n",
    "* GPS coordinates are given as geodetic which can be converted to rectangular using: \n",
    "\\begin{equation}\n",
    "\\begin{array}{l l}\n",
    "x &= (R_N + h) cos\\phi ~ cos\\lambda \\\\\n",
    "y &= (R_N + h) cos\\phi ~ sin\\lambda \\\\\n",
    "z &= (R_N(1-e^2) + h) sin\\phi \\\\\n",
    "R_N &= \\frac{a}{\\sqrt{1-e^2sin^2\\phi}}.\\\\\n",
    "\\end{array}\n",
    "\\end{equation}\n",
    "\n",
    "<center>\n",
    "<div>\n",
    "<img src=\"https://drive.google.com/uc?export=view&id=1UrRLyb1CzrntV7VYJULF53ALK-mCE5nQ\"\n",
    "    width=\"340\"/>\n",
    "</div>\n",
    "</center>\n",
    "\n",
    "\n",
    "## Earth Center Inertial Frame (ECI)\n",
    "\n",
    "* fixed frame at center of the earth and does not rotate with the earth\n",
    "\n",
    "* navigation on fixed frame is done with star charts and using ascension/declination angles wrt ECI\n",
    "\n",
    "<center>\n",
    "<div>\n",
    "<img src=\"https://drive.google.com/uc?export=view&id=13F7LW_X-V-wnXu0xC6Fc-Zx5mdIXemcV\"\n",
    "    width=\"300\"/>\n",
    "</div>\n",
    "</center>\n",
    "\n",
    "\n",
    "## Tangent North-East Down (NED) Frame\n",
    "\n",
    "* plane attached to reference point, principal axis of tangent plane is aligned to North-East down direction of the earth\n",
    "\n",
    "* some applications use East-North up (ENU) instead of NED\n",
    "\n",
    "<center>\n",
    "<div>\n",
    "<img src=\"https://drive.google.com/uc?export=view&id=1qC58vqHx4CP0z_s8PnJKpTkqXdDm1Gf5\"\n",
    "    width=\"280\"/>\n",
    "</div>\n",
    "</center>\n",
    "\n",
    "\n",
    "## Body Frame, Sensor Frame, Navigation Frame\n",
    "* attached to platform aand move with platform (therefore non-intertial frames)\n",
    "\n",
    "* Extrinsic calibraation is process where transformations between different sensor frames is dtermined\n",
    "\n",
    "* Body frame is arbitrary and attached to platform (can be COG in some applications, but others use IMU frame)\n",
    "\n",
    "* Reference frame is commonly chosen as the starting point of navigation - termed \"odometry frame\" in ROS\n"
   ]
  }
 ],
 "metadata": {
  "kernelspec": {
   "display_name": "Python 3 (ipykernel)",
   "language": "python",
   "name": "python3"
  },
  "language_info": {
   "codemirror_mode": {
    "name": "ipython",
    "version": 3
   },
   "file_extension": ".py",
   "mimetype": "text/x-python",
   "name": "python",
   "nbconvert_exporter": "python",
   "pygments_lexer": "ipython3",
   "version": "3.10.7"
  }
 },
 "nbformat": 4,
 "nbformat_minor": 4
}
