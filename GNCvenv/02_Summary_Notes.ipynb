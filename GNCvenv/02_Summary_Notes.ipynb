{
 "cells": [
  {
   "attachments": {},
   "cell_type": "markdown",
   "metadata": {},
   "source": [
    "# Pit Stop Controller Introduction\n",
    "\n",
    "Consider stoppiung distance of a car to exactly apply max possible deceleration at correct distance. What are issues, what is control strategy?\n",
    "* Open Loop Control: physics preplanning to determine exactly when to apply brakes so the vehicle stops at desired location - does not take feedback\n",
    "\n",
    "Vary applied braking force depending on distance to target. What are issues, what is control strategy?\n",
    "* Feedback control: adjustment of force by continously evaluating distance to target\n",
    "\n",
    "To determine how close the car is to the pitstop, what type of feedback methods would work? How can sufficient feedback be achieved with minumum noise?\n",
    "* Odometer of the vehicle will assist in determining speed, while a position sensor (GPS) can provide psition accurate to a few meters. Closer to the required stopping area, a camera can give more accurate knowledge of stopping distance, and sensor fusion will combine all information so it is available faster with less noise\n",
    "\n",
    "## Stochastic Simulation\n",
    "* If a system behaves as modelled, an open-loop controller can be used to achieve the control task. However, there is generally a degree of randomness in the system\n",
    "\n",
    "* Stochastic variables (random) have values which are not exactly known (non-deterministic) - this value is pulled from probability distribution\n",
    "\n",
    "* When random variable is from Gaussian Probability Distribution, it is a Gaussian variable:\n",
    "$$\\nu\\sim \\mathcal{N}(\\bar{\\nu},\\sigma_{\\nu}^2)$$\n",
    " \n",
    " * A **zero mean Gaussian noise** is a Gaussian Random Variable with mean = 0. Zero Mean Gaussian Noise vector is:\n",
    " $$\\nu\\sim \\mathcal{N}(0,\\Sigma_{\\nu})$$\n",
    "\n",
    " ## PID Control\n",
    " * PID uses sensor feedback to apply control signal to the system\n",
    "\n",
    " * Based on tracking error (difference between desired and measured output of the system)\n",
    "\n",
    "* PID Control Law is: $$u = K_pe + K_d\\dot{e}+K_i\\int edt$$\n",
    "\n",
    "* PIDs are tuned manually and can be implemented without considering the mathematical model making it a popular choice in control engineering\n",
    "\n",
    "* PID performance is characterized by tracking behaviour to step change of desired state"
   ]
  }
 ],
 "metadata": {
  "language_info": {
   "name": "python"
  },
  "orig_nbformat": 4
 },
 "nbformat": 4,
 "nbformat_minor": 2
}
