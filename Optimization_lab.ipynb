{
  "nbformat": 4,
  "nbformat_minor": 0,
  "metadata": {
    "colab": {
      "provenance": [],
      "toc_visible": true
    },
    "kernelspec": {
      "name": "python3",
      "display_name": "Python 3"
    },
    "language_info": {
      "name": "python"
    }
  },
  "cells": [
    {
      "cell_type": "markdown",
      "source": [
        " **This tutorial is created from documentation of the pydrake package.**\n",
        "\n",
        "## **Background**\n",
        "Many engineering problems can be formulated as mathematical optimization problems, and solved by numerical solvers. A generic mathematical optimization problem can be formulated as\n",
        "$\\begin{aligned}\n",
        "\\begin{array}{rl}\n",
        "                       \\min_x \\;  &  f(x)\n",
        "   \\\\\\text{subject to}  \\;  &  x \\in\\mathbb{S}\n",
        "   \\end{array}\n",
        "   \\qquad\n",
        "   \\boxed{\n",
        "         \\begin{array}{ll}\n",
        "      \\text{The real-valued decision variable is}       &x\\\\\n",
        "      \\text{The real-valued cost function is}           &f(x)\\\\\n",
        "      \\text{The constraint set is}                      &\\mathbb{S}\\\\\n",
        "      \\text{The optimal } x \\text{ that minimizes the cost function is}  &x^*\n",
        "      \\end{array}\n",
        "      }\n",
        "\\end{aligned}$\n",
        "\n",
        "where $x$ is the real-valued decision variable(s), $f(x)$ is the real-valued *cost function*, $\\mathbb{S}$ is the constraint set for $x$. Our goal is to find the optimal $x^*$ within the constraint set $\\mathbb{S}$, such that $x^*$ minimizes the cost function $f(x)$.\n",
        "\n",
        "For example, the following optimization problem determines the value of $x$\n",
        "that minimizes $x^3 + 2x + 1$ subject to $x \\ge 1$.\n",
        "$\\begin{aligned}\n",
        "\\begin{array}{rl}\n",
        "\\min_x\\;&x^3 + 2x + 1\\\\\n",
        "\\text{subject to}\\;\\;&x \\ge 1\n",
        "\\end{array}\n",
        "\\quad\n",
        "\\boxed{\n",
        "      \\begin{array}{ll}\n",
        "          \\text{The real-valued decision variable is}         &  x\\\\\n",
        "          \\text{The real-valued cost function }f(x) \\text{ is} &  x^3 + 2x + 1\\\\\n",
        "          \\text{The set }\\mathbb{S} \\text{ of constraints is}      &  x \\ge 1\\\\\n",
        "          \\text{The value that minimizes the cost function is}    &  x^* = 1\n",
        "   \\end{array}\n",
        "}\n",
        "\\end{aligned}$\n",
        "\n",
        "In general, how an optimization problem is solved depends on its categorization (categories include Linear Programming, Quadratic Programming, Mixed-integer Programming, etc.). Categorization depends on properties of both the cost function $f(x)$ and the constraint set $\\mathbb{S}$. For example, if the cost function $f(x)$ is a linear function of $x$, and the constraint $\\mathbb{S}$ is a linear set $\\mathbb{S} = \\{x | Ax\\le b\\}$, then we have a *linear programming* problem, which is efficiently solved with certain solvers.\n",
        "\n",
        "There are multiple solvers for each category of optimization problems,\n",
        "but each solver has its own API and data structures.\n",
        "Frequently, users need to rewrite code when they switch solvers.\n",
        "To remedy this, Drake provides a common API through the *MathematicalProgram* class.\n",
        "In addition to avoiding solver-specific code,\n",
        "the constraint and cost functions can be written in symbolic form (which makes code more readable).\n",
        "In these ways, Drake's MathematicalProgram is akin to [YALMIP](https://yalmip.github.io/) in MATLAB or [JuMP](https://github.com/JuliaOpt/JuMP.jl) in Julia, and we support both Python and C++.\n",
        "<br> Note: Drake supports many [solvers](https://drake.mit.edu/doxygen_cxx/group__solvers.html)\n",
        "(some are open-source and some require a license).\n",
        "\n",
        "Some categories of optimization problems looked at here are as follows:\n",
        "* Linear programming\n",
        "* Quadratic programming\n",
        "* Nonlinear nonconvex programming\n",
        "* Sum-of-squares programming\n",
        "\n",
        "This tutorial provides the basics of Drake's MathematicalProgram.\n",
        "\n",
        "A list of solvers used: https://drake.mit.edu/doxygen_cxx/group__solvers.html\n"
      ],
      "metadata": {
        "id": "HRgDh7Sq1uQw"
      }
    },
    {
      "cell_type": "markdown",
      "source": [
        "## Basics of MathematicalProgram class\n",
        "Drake's MathematicalProgram class contains the mathematical formulation of an optimization problem, namely the decision variables $x$, the cost function $f(x)$, and the constraint set $\\mathbb{S}$.\n",
        "\n",
        "### Initialize a MathematicalProgram object\n",
        "\n",
        " To initialize this class, first create an empty MathematicalProgram as"
      ],
      "metadata": {
        "id": "iddzCnwD2xOl"
      }
    },
    {
      "cell_type": "code",
      "source": [
        "%%capture\n",
        "!pip install underactuated"
      ],
      "metadata": {
        "id": "buwNDG3R3Vq_"
      },
      "execution_count": null,
      "outputs": []
    },
    {
      "cell_type": "code",
      "source": [
        "from pydrake.solvers import MathematicalProgram\n",
        "import numpy as np\n",
        "import matplotlib.pyplot as plt\n",
        "\n",
        "# Create an empty MathematicalProgram named prog (with no decision variables,\n",
        "# constraints or cost function)\n",
        "prog = MathematicalProgram()"
      ],
      "metadata": {
        "id": "xG-LNFNC1trK"
      },
      "execution_count": null,
      "outputs": []
    },
    {
      "cell_type": "markdown",
      "source": [
        "\n",
        "### Adding decision variables\n",
        "Shown below, the function `NewContinuousVariables` adds two new continuous decision variables to `prog`.  The newly added variables are returned as `x` in a numpy array.\n",
        "<br><font size=-1> Note the range of the variable is a continuous set, as opposed to binary variables which only take discrete value 0 or 1.</font>"
      ],
      "metadata": {
        "id": "524kfc2L3jlT"
      }
    },
    {
      "cell_type": "code",
      "execution_count": null,
      "metadata": {
        "id": "1978UTkowcVh"
      },
      "outputs": [],
      "source": [
        "x = prog.NewContinuousVariables(2)\n"
      ]
    },
    {
      "cell_type": "markdown",
      "source": [
        "The default names of the variable in *x* are \"x(0)\" and \"x(1)\".  The next line prints the default names and types in `x`, whereas the second line prints the symbolic expression \"1 + 2x[0] + 3x[1] + 4x[1]\"."
      ],
      "metadata": {
        "id": "r2u1KD4T3pnT"
      }
    },
    {
      "cell_type": "markdown",
      "source": [],
      "metadata": {
        "id": "3cxcsqBu38V7"
      }
    },
    {
      "cell_type": "code",
      "source": [
        "print(x)\n",
        "print(1 + 2*x[0] + 3*x[1] + 4*x[1])"
      ],
      "metadata": {
        "colab": {
          "base_uri": "https://localhost:8080/"
        },
        "id": "uG7iGoOO3pTz",
        "outputId": "6393b45b-ac2b-430b-de64-9b43dff10a1e"
      },
      "execution_count": null,
      "outputs": [
        {
          "output_type": "stream",
          "name": "stdout",
          "text": [
            "[Variable('x(0)', Continuous) Variable('x(1)', Continuous)]\n",
            "(1 + 2 * x(0) + 7 * x(1))\n"
          ]
        }
      ]
    },
    {
      "cell_type": "markdown",
      "source": [
        "To create an array `y` of two variables named \"dog(0)\"\" and \"dog(1)\", pass the name \"dog\" as a second argument to `NewContinuousVariables()`. Also shown below is the printout of the two variables in `y` and a symbolic expression involving `y`."
      ],
      "metadata": {
        "id": "Cu2CCD0C8Boq"
      }
    },
    {
      "cell_type": "code",
      "source": [
        "y = prog.NewContinuousVariables(2, \"dog\")\n",
        "print(y)\n",
        "print(y[0] + y[0] + y[1] * y[1] * y[1])"
      ],
      "metadata": {
        "id": "fLkECkR03n_m",
        "colab": {
          "base_uri": "https://localhost:8080/"
        },
        "outputId": "0a2dffa9-ccf9-4122-9f7d-e9165067943a"
      },
      "execution_count": null,
      "outputs": [
        {
          "output_type": "stream",
          "name": "stdout",
          "text": [
            "[Variable('dog(0)', Continuous) Variable('dog(1)', Continuous)]\n",
            "(2 * dog(0) + pow(dog(1), 3))\n"
          ]
        }
      ]
    },
    {
      "cell_type": "markdown",
      "source": [
        "To create a $3 \\times 2$ matrix of variables named \"A\", type"
      ],
      "metadata": {
        "id": "OVzhl7ca8IUy"
      }
    },
    {
      "cell_type": "code",
      "source": [
        "var_matrix = prog.NewContinuousVariables(3, 2, \"A\")\n",
        "print(var_matrix)"
      ],
      "metadata": {
        "id": "l0HAKoK88Lbb",
        "colab": {
          "base_uri": "https://localhost:8080/"
        },
        "outputId": "e5979be8-8778-4910-d701-5eb8abb5cc46"
      },
      "execution_count": null,
      "outputs": [
        {
          "output_type": "stream",
          "name": "stdout",
          "text": [
            "[[Variable('A(0,0)', Continuous) Variable('A(0,1)', Continuous)]\n",
            " [Variable('A(1,0)', Continuous) Variable('A(1,1)', Continuous)]\n",
            " [Variable('A(2,0)', Continuous) Variable('A(2,1)', Continuous)]]\n"
          ]
        }
      ]
    },
    {
      "cell_type": "markdown",
      "source": [
        "### Adding constraints\n",
        "There are many ways to impose constraints on the decision variables. This tutorial shows a few simple examples."
      ],
      "metadata": {
        "id": "GMozdDRf8SEU"
      }
    },
    {
      "cell_type": "markdown",
      "source": [
        "#### AddConstraint\n",
        "The simplest way to add a constraint is with `MathematicalProgram.AddConstraint()`."
      ],
      "metadata": {
        "id": "_WbRhIhW8aOS"
      }
    },
    {
      "cell_type": "code",
      "source": [
        "# Add the constraint x(0) * x(1) = 1 to prog\n",
        "prog.AddConstraint(x[0] * x[1] == 1)"
      ],
      "metadata": {
        "id": "GVtvdRgx8RVn",
        "colab": {
          "base_uri": "https://localhost:8080/"
        },
        "outputId": "3ea90e04-cb7f-406e-d320-239e74d57d65"
      },
      "execution_count": null,
      "outputs": [
        {
          "output_type": "execute_result",
          "data": {
            "text/plain": [
              "<pydrake.solvers.Binding𝓣Constraint𝓤 at 0x7f98095b0b30>"
            ]
          },
          "metadata": {},
          "execution_count": 62
        }
      ]
    },
    {
      "cell_type": "markdown",
      "source": [
        "You can also add inequality constraints to `prog` such as"
      ],
      "metadata": {
        "id": "sEnX2h_-8f9g"
      }
    },
    {
      "cell_type": "code",
      "source": [
        "prog.AddConstraint(x[0] >= 0)\n",
        "prog.AddConstraint(x[0] - x[1] <= 0)"
      ],
      "metadata": {
        "id": "05pB3ISJ8g4H",
        "colab": {
          "base_uri": "https://localhost:8080/"
        },
        "outputId": "13175c26-d53a-43c9-cefa-7354e7c46a62"
      },
      "execution_count": null,
      "outputs": [
        {
          "output_type": "execute_result",
          "data": {
            "text/plain": [
              "<pydrake.solvers.Binding𝓣Constraint𝓤 at 0x7f98095b18f0>"
            ]
          },
          "metadata": {},
          "execution_count": 63
        }
      ]
    },
    {
      "cell_type": "markdown",
      "source": [],
      "metadata": {
        "id": "EGTZzAoP8jc0"
      }
    },
    {
      "cell_type": "markdown",
      "source": [
        "`prog` automatically analyzes these symbolic inequality constraint expressions and determines they are all *linear* constraints on $x$."
      ],
      "metadata": {
        "id": "ssPquZ7K8jnC"
      }
    },
    {
      "cell_type": "markdown",
      "source": [
        "### Adding Cost functions\n",
        "In a complicated optimization problem, it is often convenient to write the total cost function $f(x)$ as a sum of individual cost functions\n",
        "\n",
        "$\\begin{aligned}\n",
        "f(x) = \\sum_i g_i(x)\n",
        "\\end{aligned}$"
      ],
      "metadata": {
        "id": "oHEXMqBv8rQ6"
      }
    },
    {
      "cell_type": "markdown",
      "source": [
        "#### AddCost method.\n",
        "The simplest way to add an individual cost function $g_i(x)$ to the total cost function $f(x)$ is with the `MathematicalProgram.AddCost()` method (as shown below)."
      ],
      "metadata": {
        "id": "gAX83Mp08urU"
      }
    },
    {
      "cell_type": "code",
      "source": [
        "# Add a cost x(0)**2 + 3 to the total cost. Since prog doesn't have a cost before, now the total cost is x(0)**2 + 3\n",
        "prog.AddCost(x[0] ** 2 + 3)"
      ],
      "metadata": {
        "colab": {
          "base_uri": "https://localhost:8080/"
        },
        "id": "JoRRLXqi8nX8",
        "outputId": "331e2269-e395-48f7-b4e2-40a2c7e91ed2"
      },
      "execution_count": null,
      "outputs": [
        {
          "output_type": "execute_result",
          "data": {
            "text/plain": [
              "<pydrake.solvers.Binding𝓣Cost𝓤 at 0x7f98096ec7f0>"
            ]
          },
          "metadata": {},
          "execution_count": 64
        }
      ]
    },
    {
      "cell_type": "code",
      "source": [],
      "metadata": {
        "id": "FhDoRPeR8yLj"
      },
      "execution_count": null,
      "outputs": []
    },
    {
      "cell_type": "markdown",
      "source": [
        "To add another individual cost function $x(0) + x(1)$ to the total cost function $f(x)$, simply call `AddCost()` again as follows"
      ],
      "metadata": {
        "id": "Pf_c2SkJ8148"
      }
    },
    {
      "cell_type": "code",
      "source": [
        "prog.AddCost(x[0] + x[1])"
      ],
      "metadata": {
        "colab": {
          "base_uri": "https://localhost:8080/"
        },
        "id": "XXmIOaGe82_X",
        "outputId": "bdd34dfc-3e09-42c9-d175-63258be703a8"
      },
      "execution_count": null,
      "outputs": [
        {
          "output_type": "execute_result",
          "data": {
            "text/plain": [
              "<pydrake.solvers.Binding𝓣Cost𝓤 at 0x7f980979c570>"
            ]
          },
          "metadata": {},
          "execution_count": 65
        }
      ]
    },
    {
      "cell_type": "markdown",
      "source": [
        "now the total cost function becomes $x(0)^2 + x(0) + x(1) + 3$.\n",
        "\n",
        "`prog` can analyze each of these individual cost functions and determine that $x(0) ^ 2 + 3$  is a convex quadratic function, and $x(0) + x(1)$ is a linear function of $x$."
      ],
      "metadata": {
        "id": "EGrG_iEx86uh"
      }
    },
    {
      "cell_type": "code",
      "source": [
        "prog.GetAllCosts()"
      ],
      "metadata": {
        "colab": {
          "base_uri": "https://localhost:8080/"
        },
        "id": "dYxRqjyq8-DS",
        "outputId": "4a8cf91b-6f39-49ea-a008-0684cdadb2b0"
      },
      "execution_count": null,
      "outputs": [
        {
          "output_type": "execute_result",
          "data": {
            "text/plain": [
              "[<pydrake.solvers.Binding𝓣Cost𝓤 at 0x7f98097a6770>,\n",
              " <pydrake.solvers.Binding𝓣Cost𝓤 at 0x7f980979d9b0>]"
            ]
          },
          "metadata": {},
          "execution_count": 66
        }
      ]
    },
    {
      "cell_type": "markdown",
      "source": [
        "### Solve the optimization problem\n",
        "Once all the decision variables/constraints/costs are added to `prog`, we are ready to solve the optimization problem.\n",
        "\n"
      ],
      "metadata": {
        "id": "G9fToYz79QCw"
      }
    },
    {
      "cell_type": "markdown",
      "source": [
        "#### Automatically choosing a solver\n",
        "The simplest way to solve the optimization problem is to call `Solve()` function. Drake's MathematicalProgram analyzes the type of the constraints/costs, and then calls an appropriate solver for your problem. The result of calling `Solve()` is stored inside the return argument. Here is a code snippet"
      ],
      "metadata": {
        "id": "t9tybNsd9aAv"
      }
    },
    {
      "cell_type": "code",
      "source": [
        "\"\"\"\n",
        "Solves a simple optimization problem\n",
        "       min x(0)^2 + x(1)^2\n",
        "subject to x(0) + x(1) = 1\n",
        "           x(0) <= x(1)\n",
        "\"\"\"\n",
        "from pydrake.solvers import Solve\n",
        "# Set up the optimization problem.\n",
        "prog = MathematicalProgram()\n",
        "x = prog.NewContinuousVariables(2)\n",
        "prog.AddConstraint(x[0] + x[1] == 1)\n",
        "prog.AddConstraint(x[0] <= x[1])\n",
        "prog.AddCost(x[0] **2 + x[1] ** 2)\n",
        "\n",
        "# Now solve the optimization problem.\n",
        "result = Solve(prog)\n",
        "\n",
        "#print out the result.\n",
        "print(\"Success? \", result.is_success())\n",
        "# Print the solution to the decision variables.\n",
        "print('x* = ', result.GetSolution(x))\n",
        "# Print the optimal cost.\n",
        "print('optimal cost = ', result.get_optimal_cost())\n",
        "# Print the name of the solver that was called.\n",
        "print('solver is: ', result.get_solver_id().name())"
      ],
      "metadata": {
        "colab": {
          "base_uri": "https://localhost:8080/"
        },
        "id": "qfn9HSjs9RI7",
        "outputId": "818c9195-894d-4b05-efaa-c020078c79e6"
      },
      "execution_count": null,
      "outputs": [
        {
          "output_type": "stream",
          "name": "stdout",
          "text": [
            "Success?  True\n",
            "x* =  [0.5 0.5]\n",
            "optimal cost =  0.5000000000000002\n",
            "solver is:  OSQP\n"
          ]
        }
      ]
    },
    {
      "cell_type": "markdown",
      "source": [
        "Notice that we can then retrieve optimization result from the return argument of `Solve`. For example, the solution $x^*$ is retrieved from `result.GetSolution()`, and the optimal cost from `result.get_optimal_cost()`.\n",
        "\n",
        "Some optimization solution is infeasible (doesn't have a solution). For example in the following code example, `result.get_solution_result()` will not report `kSolutionFound`."
      ],
      "metadata": {
        "id": "kDqU91kn9xRw"
      }
    },
    {
      "cell_type": "code",
      "source": [
        "\"\"\"\n",
        "An infeasible optimization problem.\n",
        "\"\"\"\n",
        "prog = MathematicalProgram()\n",
        "x = prog.NewContinuousVariables(1)[0] #turns to a scalar variable\n",
        "y = prog.NewContinuousVariables(1)[0]\n",
        "prog.AddConstraint(x + y >= 1)\n",
        "prog.AddConstraint(x + y <= 0)\n",
        "prog.AddCost(x)\n",
        "\n",
        "result = Solve(prog)\n",
        "print(\"Success? \", result.is_success())\n",
        "print(result.get_solution_result())"
      ],
      "metadata": {
        "colab": {
          "base_uri": "https://localhost:8080/"
        },
        "id": "rmojxCMq9x6m",
        "outputId": "4bd98a03-f9bb-4a5d-9e93-66efe61b0ca7"
      },
      "execution_count": null,
      "outputs": [
        {
          "output_type": "stream",
          "name": "stdout",
          "text": [
            "Success?  False\n",
            "SolutionResult.kInfeasibleConstraints\n"
          ]
        }
      ]
    },
    {
      "cell_type": "markdown",
      "source": [
        "**Exercise 1**: Solve the optimization problem 1 given in class using the functions above.\n",
        "\n",
        "\n",
        "\n"
      ],
      "metadata": {
        "id": "72GXLx2LHidt"
      }
    },
    {
      "cell_type": "markdown",
      "source": [
        "#### Manually choosing a solver\n",
        "\n",
        "If you want to choose a solver yourself, rather than Drake choosing one for you, you could instantiate a solver explicitly, and call its `Solve` function. There are two approaches to instantiate a solver. For example, if I want to solve a problem using the open-source solver [IPOPT](https://github.com/coin-or/Ipopt), I can instantiate the solver using either of the two approaches:\n",
        "1. The simplest approach is to call `solver = IpoptSolver()`\n",
        "2. The second approach is to construct a solver with a given solver ID as `solver = MakeSolver(IpoptSolver().solver_id())`"
      ],
      "metadata": {
        "id": "CWKcg18_-9F7"
      }
    },
    {
      "cell_type": "code",
      "source": [
        "\"\"\"\n",
        "Demo on manually choosing a solver\n",
        "Solves the problem\n",
        "min x(0)\n",
        "s.t x(0) + x(1) = 1\n",
        "    0 <= x(1) <= 1\n",
        "\"\"\"\n",
        "from pydrake.solvers import IpoptSolver\n",
        "prog = MathematicalProgram()\n",
        "x = prog.NewContinuousVariables(2)\n",
        "prog.AddConstraint(x[0] + x[1] == 1)\n",
        "prog.AddConstraint(0 <= x[1])\n",
        "prog.AddConstraint(x[1] <= 1)\n",
        "prog.AddCost(x[0])\n",
        "\n",
        "# Choose IPOPT as the solver.\n",
        "# First instantiate an IPOPT solver.\n",
        "\n",
        "solver = IpoptSolver()\n",
        "# The initial guess is [1, 1]. The third argument is the options for Ipopt solver,\n",
        "# and we set no solver options.\n",
        "result = solver.Solve(prog, np.array([1, 1]), None)\n",
        "\n",
        "print(result.get_solution_result())\n",
        "print(\"x* = \", result.GetSolution(x))\n",
        "print(\"Solver is \", result.get_solver_id().name())\n",
        "print(\"Ipopt solver status: \", result.get_solver_details().status,\n",
        "      \", meaning \", result.get_solver_details().ConvertStatusToString())\n"
      ],
      "metadata": {
        "colab": {
          "base_uri": "https://localhost:8080/"
        },
        "id": "Ab5RcEA190ov",
        "outputId": "a74194c3-7a8d-4c08-e1f8-f49800c9534e"
      },
      "execution_count": null,
      "outputs": [
        {
          "output_type": "stream",
          "name": "stdout",
          "text": [
            "SolutionResult.kSolutionFound\n",
            "x* =  [-9.49998992e-11  1.00000000e+00]\n",
            "Solver is  IPOPT\n",
            "Ipopt solver status:  0 , meaning  Success\n"
          ]
        }
      ]
    },
    {
      "cell_type": "markdown",
      "source": [
        "Note that `solver.Solve()` expects three input arguments, the optimization program `prog`, the initial guess of the decision variable values (`[1, 1]` in this case), and an optional setting for the solver (`None` in this case, we use the default IPOPT setting). If you don't have an initial guess, you could call `solver.Solve(prog)`. Drake will choose a default initial guess (a 0-valued vector), but this initial guess might be a bad starting point for optimization. Note from the following example code, with the default initial guess, the solver cannot find a solution, even though a solution exists (and could be found with initial guess [1, 1]).\n"
      ],
      "metadata": {
        "id": "xTwSx9X9Ay6z"
      }
    },
    {
      "cell_type": "code",
      "source": [
        "from pydrake.solvers import MakeSolver\n",
        "solver = MakeSolver(IpoptSolver().solver_id())\n",
        "result = solver.Solve(prog)\n",
        "print(result.get_solution_result())\n",
        "print(\"x* = \", result.GetSolution(x))"
      ],
      "metadata": {
        "colab": {
          "base_uri": "https://localhost:8080/"
        },
        "id": "Q22bz8KTA4VL",
        "outputId": "048f03f6-289e-4153-adf3-0e9b47e6aa3f"
      },
      "execution_count": null,
      "outputs": [
        {
          "output_type": "stream",
          "name": "stdout",
          "text": [
            "SolutionResult.kSolutionFound\n",
            "x* =  [-9.50000206e-11  1.00000000e+00]\n"
          ]
        }
      ]
    },
    {
      "cell_type": "markdown",
      "source": [
        "### Using an initial guess\n",
        "Some optimization problems, such as nonlinear optimization, require an initial guess. Other types of problems, such as quadratic programming, mixed-integer optimization, etc,  can be solved faster if a good initial guess is provided. The user could provide an initial guess as an input argument in `Solve` function. If no initial guess is provided, Drake will use a zero-valued vector as the initial guess.\n",
        "\n",
        "In the example below, we show that an initial guess could affect the result of the problem. Without an user-provided initial guess, the solver might be unable to find the solution."
      ],
      "metadata": {
        "id": "VyAZK7IHA_CI"
      }
    },
    {
      "cell_type": "code",
      "source": [
        "from pydrake.solvers import IpoptSolver\n",
        "prog = MathematicalProgram()\n",
        "x = prog.NewContinuousVariables(2)\n",
        "prog.AddConstraint(x[0]**2 + x[1]**2 == 100.)\n",
        "prog.AddCost(x[0]**2-x[1]**2)\n",
        "solver = IpoptSolver()\n",
        "# The user doesn't provide an initial guess.\n",
        "result = solver.Solve(prog, None, None)\n",
        "print(f\"Without a good initial guess, the result is {result.is_success()}\")\n",
        "print(f\"solution {result.GetSolution(x)}\")\n",
        "# Pass an initial guess\n",
        "result = solver.Solve(prog, [-5., 0.], None)\n",
        "print(f\"With a good initial guess, the result is {result.is_success()}\")"
      ],
      "metadata": {
        "colab": {
          "base_uri": "https://localhost:8080/"
        },
        "id": "uzalz98oA7d2",
        "outputId": "7a54921b-116f-4f86-bd1e-034a46aacc1c"
      },
      "execution_count": null,
      "outputs": [
        {
          "output_type": "stream",
          "name": "stdout",
          "text": [
            "Without a good initial guess, the result is False\n",
            "solution [0. 0.]\n",
            "With a good initial guess, the result is True\n"
          ]
        }
      ]
    },
    {
      "cell_type": "markdown",
      "source": [
        "For more details on setting the initial guess, the user could refer to [Nonlinear program](./nonlinear_program.ipynb) section `Setting the initial guess`.\n",
        "\n",
        "\n",
        "### Add callback\n",
        "Some solvers support adding a callback function in each iteration. One usage of the callback is to visualize the solver progress in the current iteration. `MathematicalProgram` supports this usage through the function `AddVisualizationCallback`, although the usage is not limited to just visualization, the callback function can do anything. Here is an example"
      ],
      "metadata": {
        "id": "c1Brv-9MBrIo"
      }
    },
    {
      "cell_type": "code",
      "source": [
        "# Visualize the solver progress in each iteration through a callback\n",
        "# Find the closest point on a curve to a desired point.\n",
        "\n",
        "fig = plt.figure()\n",
        "curve_x = np.linspace(1, 10, 100)\n",
        "ax = plt.gca()\n",
        "ax.plot(curve_x, 9./curve_x)\n",
        "ax.plot(-curve_x, -9./curve_x)\n",
        "ax.plot(0, 0, 'o')\n",
        "x_init = [4., 5.]\n",
        "ax.plot(x_init[0], x_init[1], 'x', color='red')\n",
        "\n",
        "def update(x):\n",
        "    print(x)\n",
        "    ax.plot(x[0], x[1], 'x', color='red')\n",
        "\n",
        "prog = MathematicalProgram()\n",
        "x = prog.NewContinuousVariables(2)\n",
        "prog.AddConstraint(x[0] * x[1] == 9)\n",
        "prog.AddCost(x[0]**2 + x[1]**2)\n",
        "prog.AddVisualizationCallback(update, x)\n",
        "result = Solve(prog, x_init)"
      ],
      "metadata": {
        "colab": {
          "base_uri": "https://localhost:8080/",
          "height": 610
        },
        "id": "ATvVCr4NBsVy",
        "outputId": "7b8b2bd4-5ddb-42d8-cec3-9a7fcd15b095"
      },
      "execution_count": null,
      "outputs": [
        {
          "output_type": "stream",
          "name": "stdout",
          "text": [
            "[4. 5.]\n",
            "[4.00000274 4.99999726]\n",
            "[3.0158392 4.       ]\n",
            "[2.66647998 3.44760983]\n",
            "[3.40409323 2.42154352]\n",
            "[3.06184614 2.89763069]\n",
            "[2.97838743 3.01838567]\n",
            "[2.99959339 3.00027865]\n",
            "[3.00000077 2.99999919]\n",
            "[3.00000077 2.99999919]\n"
          ]
        },
        {
          "output_type": "display_data",
          "data": {
            "text/plain": [
              "<Figure size 640x480 with 1 Axes>"
            ],
            "image/png": "[encoded data removed]"
          },
          "metadata": {}
        }
      ]
    },
    {
      "cell_type": "markdown",
      "source": [
        "**Exercise 2**\n",
        "Solve the optimization problem 2 given in class using the functions above.\n"
      ],
      "metadata": {
        "id": "V9aDEy5tDdC1"
      }
    },
    {
      "cell_type": "markdown",
      "source": [
        "## **Trajectory optimization**\n",
        "\n",
        "### Shooting\n",
        "### Transcription\n",
        "### Collocation\n",
        "\n",
        "\n",
        "**Exercise 3**: Solve the optimization problem 3 given in class using the following code\n"
      ],
      "metadata": {
        "id": "6ytm6JSTD5Mu"
      }
    },
    {
      "cell_type": "code",
      "source": [
        "from pydrake.all import (\n",
        "    eq,\n",
        ")\n",
        "\n",
        "def double_integrator():\n",
        "    # Discrete-time approximation of the double integrator.\n",
        "    dt = 0.01\n",
        "    A = np.eye(2) + dt * np.mat(\"0 1; 0 0\")\n",
        "    B = dt * np.mat(\"0; 1\")\n",
        "\n",
        "    def solve_for_fixed_horizon(N):\n",
        "        prog = MathematicalProgram()\n",
        "\n",
        "        # Create decision variables\n",
        "        u = prog.NewContinuousVariables(1, N - 1, \"u\")\n",
        "        x = prog.NewContinuousVariables(2, N, \"x\")\n",
        "\n",
        "        # Add constraints\n",
        "        x0 = [-2, 0]\n",
        "        prog.AddBoundingBoxConstraint(x0, x0, x[:, 0])\n",
        "        for n in range(N - 1):\n",
        "            prog.AddConstraint(\n",
        "                eq(x[:, n + 1], A.dot(x[:, n]) + B.dot(u[:, n]))\n",
        "            )\n",
        "            prog.AddBoundingBoxConstraint(-1, 1, u[:, n])\n",
        "            #prog.AddCost(u[0, n] ** 2)\n",
        "            prog.AddCost(N)\n",
        "        xf = [0, 0]\n",
        "        prog.AddBoundingBoxConstraint(xf, xf, x[:, N - 1])\n",
        "\n",
        "        result = Solve(prog)\n",
        "        return result, prog, x, u\n",
        "\n",
        "    # TODO(russt): Do a line search here (I've done it manually).\n",
        "    N = 300\n",
        "    # True solution: min time(q=-2, qdot=0) = 2√2 = 2.828 seconds.\n",
        "    result, prog, x, u = solve_for_fixed_horizon(N)\n",
        "    assert result.is_success(), \"Optimization failed\"\n",
        "\n",
        "    u_sol = result.GetSolution(u)\n",
        "    x_sol = result.GetSolution(x)\n",
        "\n",
        "    fig, ax = plt.subplots(2, 1)\n",
        "    ax[0].plot(x_sol[0, :], x_sol[1, :], \"-\")\n",
        "    ax[0].set_xlabel(\"q\")\n",
        "    ax[0].set_ylabel(\"qdot\")\n",
        "\n",
        "    ax[1].plot(np.arange(0, N - 1) * dt, u_sol.T, \"-\")\n",
        "    ax[1].set_xlabel(\"t\")\n",
        "    ax[1].set_ylabel(\"u\")\n",
        "\n",
        "\n",
        "double_integrator()"
      ],
      "metadata": {
        "colab": {
          "base_uri": "https://localhost:8080/",
          "height": 386
        },
        "id": "o_EV30C7H8nY",
        "outputId": "faf19432-8b0c-414f-f683-4571664a5df9"
      },
      "execution_count": null,
      "outputs": [
        {
          "output_type": "error",
          "ename": "ModuleNotFoundError",
          "evalue": "ignored",
          "traceback": [
            "\u001b[0;31m---------------------------------------------------------------------------\u001b[0m",
            "\u001b[0;31mModuleNotFoundError\u001b[0m                       Traceback (most recent call last)",
            "\u001b[0;32m<ipython-input-1-9678a6720823>\u001b[0m in \u001b[0;36m<cell line: 1>\u001b[0;34m()\u001b[0m\n\u001b[0;32m----> 1\u001b[0;31m from pydrake.all import (\n\u001b[0m\u001b[1;32m      2\u001b[0m     \u001b[0meq\u001b[0m\u001b[0;34m,\u001b[0m\u001b[0;34m\u001b[0m\u001b[0;34m\u001b[0m\u001b[0m\n\u001b[1;32m      3\u001b[0m )\n\u001b[1;32m      4\u001b[0m \u001b[0;34m\u001b[0m\u001b[0m\n\u001b[1;32m      5\u001b[0m \u001b[0;32mdef\u001b[0m \u001b[0mdouble_integrator\u001b[0m\u001b[0;34m(\u001b[0m\u001b[0;34m)\u001b[0m\u001b[0;34m:\u001b[0m\u001b[0;34m\u001b[0m\u001b[0;34m\u001b[0m\u001b[0m\n",
            "\u001b[0;31mModuleNotFoundError\u001b[0m: No module named 'pydrake'",
            "",
            "\u001b[0;31m---------------------------------------------------------------------------\u001b[0;32m\nNOTE: If your import is failing due to a missing package, you can\nmanually install dependencies using either !pip or !apt.\n\nTo view examples of installing some common dependencies, click the\n\"Open Examples\" button below.\n\u001b[0;31m---------------------------------------------------------------------------\u001b[0m\n"
          ],
          "errorDetails": {
            "actions": [
              {
                "action": "open_url",
                "actionText": "Open Examples",
                "url": "/notebooks/snippets/importing_libraries.ipynb"
              }
            ]
          }
        }
      ]
    }
  ]
}